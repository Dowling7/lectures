{
 "cells": [
  {
   "cell_type": "markdown",
   "id": "facca34a",
   "metadata": {
    "tags": [
     "learner",
     "md",
     "learner_chopped"
    ]
   },
   "source": [
    "<hr style=\"height: 1px;\">\n",
    "<i>This notebook was authored by the 8.S50x Course Team, Copyright 2022 MIT All Rights Reserved.</i>\n",
    "<hr style=\"height: 1px;\">\n",
    "<br>\n",
    "\n",
    "<h1>Lesson 3: Gravitational Waves</h1>\n"
   ]
  },
  {
   "cell_type": "markdown",
   "id": "0d7f1430",
   "metadata": {
    "tags": [
     "learner",
     "md",
     "learner_chopped"
    ]
   },
   "source": [
    "<a name='section_3_0'></a>\n",
    "<hr style=\"height: 1px;\">\n",
    "\n",
    "\n",
    "## <h2 style=\"border:1px; border-style:solid; padding: 0.25em; color: #FFFFFF; background-color: #90409C\">L3.0 Overview</h2>\n"
   ]
  },
  {
   "cell_type": "markdown",
   "id": "c4f476a6",
   "metadata": {
    "tags": [
     "learner",
     "md",
     "learner_chopped"
    ]
   },
   "source": [
    "<h3>Navigation</h3>\n",
    "\n",
    "<table style=\"width:100%\">\n",
    "    <tr>\n",
    "        <td style=\"text-align: left; vertical-align: top; font-size: 10pt;\"><a href=\"#section_3_1\">L3.1 Introduction to Gravitational Waves</a></td>\n",
    "        <td style=\"text-align: left; vertical-align: top; font-size: 10pt;\"><a href=\"#exercises_3_1\">L3.1 Exercises</a></td>\n",
    "    </tr>\n",
    "    <tr>\n",
    "        <td style=\"text-align: left; vertical-align: top; font-size: 10pt;\"><a href=\"#section_3_2\">L3.2 Identification of Gravitational Waves</a></td>\n",
    "        <td style=\"text-align: left; vertical-align: top; font-size: 10pt;\"><a href=\"#exercises_3_2\">L3.2 Exercises</a></td>\n",
    "    </tr>\n",
    "    <tr>\n",
    "        <td style=\"text-align: left; vertical-align: top; font-size: 10pt;\"><a href=\"#section_3_3\">L3.3 Time-Frequency Analysis of Gravitational Wave Data</a></td>\n",
    "        <td style=\"text-align: left; vertical-align: top; font-size: 10pt;\"><a href=\"#exercises_3_3\">L3.3 Exercises</a></td>\n",
    "    </tr>\n",
    "    <tr>\n",
    "        <td style=\"text-align: left; vertical-align: top; font-size: 10pt;\"><a href=\"#section_3_4\">L3.4 Signal-to-Noise Sensitivity</a></td>\n",
    "        <td style=\"text-align: left; vertical-align: top; font-size: 10pt;\"><a href=\"#exercises_3_4\">L3.4 Exercises</a></td>\n",
    "    </tr>\n",
    "    <tr>\n",
    "        <td style=\"text-align: left; vertical-align: top; font-size: 10pt;\"><a href=\"#section_3_5\">L3.5 Pinpointing Gravitational Wave Events</a></td>\n",
    "        <td style=\"text-align: left; vertical-align: top; font-size: 10pt;\"><a href=\"#exercises_3_5\">L3.5 Exercises</a></td>\n",
    "    </tr>\n",
    "</table>\n",
    "\n"
   ]
  },
  {
   "cell_type": "markdown",
   "id": "214cd4d2",
   "metadata": {
    "tags": [
     "learner",
     "catsoop_00",
     "md"
    ]
   },
   "source": [
    "<h3>Learning Objectives</h3>\n",
    "\n",
    "Within this Lesson, we will cover the following topics:\n",
    "\n",
    "- What are gravitational waves?\n",
    "- How are gravitational waves created?\n",
    "- What is the effect of gravitational waves?\n",
    "- How are gravitational waves detected?\n",
    "- Analyzing data as a function of frequency instead of time\n",
    "- Introduction to Fourier transforms\n",
    "- Sources of noise in GW data\n",
    "- How noise affects GW sensitivity\n",
    "- How GW signals are found in the presence of noise\n",
    "- More details of GW signal analysis\n",
    "- Current and future GW detectors"
   ]
  },
  {
   "cell_type": "markdown",
   "id": "192d4ecc",
   "metadata": {
    "tags": [
     "learner",
     "md",
     "learner_chopped"
    ]
   },
   "source": [
    "<h3>Importing Data (Colab Only)</h3>\n",
    "\n",
    "If you are in a Google Colab environment, run the cell below to import the data for this notebook. Otherwise, if you have downloaded the course repository, you do not have to run the cell below."
   ]
  },
  {
   "cell_type": "code",
   "execution_count": null,
   "id": "834bf87d",
   "metadata": {
    "tags": [
     "learner",
     "py",
     "learner_chopped"
    ]
   },
   "outputs": [],
   "source": [
    "#>>>RUN L3.0-runcell00\n",
    "\n",
    "#Importing data:\n",
    "\n",
    "!git init\n",
    "!git remote add -f origin https://github.com/mitx-8s50/nb_LEARNER/\n",
    "!git config core.sparseCheckout true\n",
    "!echo 'data/L03' >> .git/info/sparse-checkout\n",
    "!git pull origin main"
   ]
  },
  {
   "cell_type": "markdown",
   "id": "5defa176",
   "metadata": {
    "tags": [
     "learner",
     "md"
    ]
   },
   "source": [
    "<h3>Importing Libraries</h3>\n",
    "\n",
    "Before beginning, run the cell below to import the relevant libraries for this notebook. \n"
   ]
  },
  {
   "cell_type": "code",
   "execution_count": null,
   "id": "e6d249c4",
   "metadata": {
    "tags": [
     "learner",
     "py",
     "learner_chopped"
    ]
   },
   "outputs": [],
   "source": [
    "#>>>RUN: L3.0-runcell01\n",
    "\n",
    "import numpy as np                    #https://numpy.org/doc/stable/\n",
    "from matplotlib import pyplot as plt  #https://matplotlib.org/stable/api/_as_gen/matplotlib.pyplot.html\n",
    "from scipy.fft import fft, fftfreq    #https://docs.scipy.org/doc/scipy/reference/fft.html\n",
    "                                      #https://docs.scipy.org/doc/scipy/reference/generated/scipy.fft.fftfreq.html"
   ]
  },
  {
   "cell_type": "markdown",
   "id": "dde379e5",
   "metadata": {
    "tags": [
     "learner",
     "md"
    ]
   },
   "source": [
    "<h3>Setting Default Figure Parameters</h3>\n",
    "\n",
    "The following code cell sets default values for figure parameters."
   ]
  },
  {
   "cell_type": "code",
   "execution_count": null,
   "id": "a9da6c27",
   "metadata": {
    "tags": [
     "learner",
     "py",
     "learner_chopped"
    ]
   },
   "outputs": [],
   "source": [
    "#>>>RUN: L3.0-runcell02\n",
    "\n",
    "#set plot resolution\n",
    "%config InlineBackend.figure_format = 'retina'\n",
    "\n",
    "#set default figure parameters\n",
    "plt.rcParams['figure.figsize'] = (9,6)\n",
    "\n",
    "medium_size = 12\n",
    "large_size = 15\n",
    "\n",
    "plt.rc('font', size=medium_size)          # default text sizes\n",
    "plt.rc('xtick', labelsize=medium_size)    # xtick labels\n",
    "plt.rc('ytick', labelsize=medium_size)    # ytick labels\n",
    "plt.rc('legend', fontsize=medium_size)    # legend\n",
    "plt.rc('axes', titlesize=large_size)      # axes title\n",
    "plt.rc('axes', labelsize=large_size)      # x and y labels\n",
    "plt.rc('figure', titlesize=large_size)    # figure title"
   ]
  },
  {
   "cell_type": "markdown",
   "id": "e5fbc24e",
   "metadata": {
    "tags": [
     "learner",
     "md",
     "learner_chopped"
    ]
   },
   "source": [
    "<a name='section_3_1'></a>\n",
    "<hr style=\"height: 1px;\">\n",
    "\n",
    "## <h2 style=\"border:1px; border-style:solid; padding: 0.25em; color: #FFFFFF; background-color: #90409C\">L3.1 Introduction to Gravitational Waves</h2>  \n",
    "\n",
    "| [Top](#section_3_0) | [Previous Section](#section_3_0) | [Exercises](#exercises_3_1) | [Next Section](#section_3_2) |\n"
   ]
  },
  {
   "cell_type": "markdown",
   "id": "7ba5e092",
   "metadata": {
    "tags": [
     "learner",
     "md",
     "8S50x"
    ]
   },
   "source": [
    "*The material in this section is discussed in the video **<a href=\"https://courses.mitxonline.mit.edu/learn/course/course-v1:MITxT+8.S50.1x+3T2022/block-v1:MITxT+8.S50.1x+3T2022+type@sequential+block@seq_LS3/block-v1:MITxT+8.S50.1x+3T2022+type@vertical+block@vert_LS3_vid1\" target=\"_blank\">HERE</a>.** You are encouraged to watch that video and use this notebook concurrently.*"
   ]
  },
  {
   "cell_type": "markdown",
   "id": "18251b49",
   "metadata": {
    "tags": [
     "learner",
     "md"
    ]
   },
   "source": [
    "<h3>Slides</h3>\n",
    "\n",
    "Run the code below to view the slides for this section, which are discussed in the related video. You can also open the slides in a separate window <a href=\"https://mitx-8s50.github.io/slides/L03/slides1.html\" target=\"_blank\">HERE</a>."
   ]
  },
  {
   "cell_type": "code",
   "execution_count": null,
   "id": "10d72ea4",
   "metadata": {
    "tags": [
     "learner",
     "py",
     "learner_chopped"
    ]
   },
   "outputs": [],
   "source": [
    "#>>>RUN: L3.1-slides\n",
    "\n",
    "from IPython.display import IFrame\n",
    "IFrame(src='https://mitx-8s50.github.io/slides/L03/slides1.html', width=975, height=550)"
   ]
  },
  {
   "cell_type": "markdown",
   "id": "2e7e3cc9",
   "metadata": {
    "tags": [
     "md",
     "lect_01"
    ]
   },
   "source": [
    "<h3>Slides</h3>\n",
    "\n",
    "View the slides for this section below, which are discussed in the related video. You can also open the slides in a separate window <a href=\"https://mitx-8s50.github.io/slides/L03/slides1.html\" target=\"_blank\">HERE</a>.\n",
    "\n",
    "<p align=\"center\">\n",
    "<iframe src=\"https://mitx-8s50.github.io/slides/L03/slides1.html\" width=\"900\", height=\"550\" frameBorder=\"0\"/>\n",
    "</p>"
   ]
  },
  {
   "cell_type": "markdown",
   "id": "08c3fe59",
   "metadata": {
    "tags": [
     "learner",
     "md"
    ]
   },
   "source": [
    "<a name='exercises_3_1'></a>     \n",
    "\n",
    "| [Top](#section_3_0) | [Restart Section](#section_3_1) | [Next Section](#section_3_2) |\n"
   ]
  },
  {
   "cell_type": "markdown",
   "id": "8418d4fc",
   "metadata": {
    "tags": [
     "learner",
     "md",
     "learner_chopped"
    ]
   },
   "source": [
    "### <span style=\"border:3px; border-style:solid; padding: 0.15em; border-color: #90409C; color: #90409C;\">Ex-3.1.1 Sources of Gravitational Waves</span>\n",
    "\n",
    "Select from the following list any potential sources of gravitational waves?\n",
    "\n",
    "- binary black hole mergers\n",
    "- binary neutron star mergers\n",
    "- supernovae\n",
    "- cosmic energy bursts\n",
    "- primordial axions\n"
   ]
  },
  {
   "cell_type": "markdown",
   "id": "0a65ac00",
   "metadata": {
    "tags": [
     "solution",
     "md"
    ]
   },
   "source": [
    "<div style=\"border:1.5px; border-style:solid; padding: 0.5em; border-color: #90409C; color: #90409C;\">\n",
    "\n",
    "**SOLUTION:**\n",
    "\n",
    "<pre>\n",
    "'binary black hole mergers','binary neutron star mergers','supernovae','cosmic energy bursts','primordial axions'\n",
    "</pre>\n",
    "        \n",
    "**EXPLANATION:**\n",
    "    \n",
    "All of these are potential sources of gravitational waves. However, we have only observed gravitational waves from compact binary black hole mergers and binary neutron star mergers. Supernovae will produce enormous gravitational wave signatures and are something we hope to eventually see. There are many other sources of gravitational waves, nearly every astonomical object leaves a gravitational wave signature. One recent proposal is that we might be able to find dark matter with gravitational waves by looking for objects produced in the early universe during the big bang, like Primordial Axions. \n",
    "    \n",
    "</div>\n"
   ]
  },
  {
   "cell_type": "markdown",
   "id": "24182984",
   "metadata": {
    "tags": [
     "catsoop_01",
     "md"
    ]
   },
   "source": [
    "<question multiplechoice>\n",
    "    \n",
    "#PROBLEM NAME AND SETTINGS\n",
    "#-------------------------------------------------------\n",
    "csq_name='L03_01_01'\n",
    "csq_npoints = 1\n",
    "    \n",
    "\n",
    "\n",
    "#PROMPT\n",
    "#------------------------------------------------------- \n",
    "csq_prompt =\"\"\"### Ex-3.1.1 Sources of Gravitational Waves\n",
    "\n",
    "Select from the following list any potential sources of gravitational waves?\n",
    "\"\"\"\n",
    "    \n",
    "    \n",
    "#OPTIONS\n",
    "#-------------------------------------------------------\n",
    "csq_renderer = 'checkbox'\n",
    "csq_options = [\"binary black hole mergers\",\"binary neutron star mergers\",\"supernovae\",\"cosmic energy bursts\",\"primordial axions\"]\n",
    "    \n",
    "#SOLUTION CODE HERE\n",
    "#-------------------------------------------------------\n",
    "csq_soln = [True, True, True, True,True]\n",
    "csq_check_function = check_count\n",
    "\n",
    "\n",
    "#EXPLANATION\n",
    "#-------------------------------------------------------\n",
    "csq_explanation = r\"\"\"All of these are potential sources of gravitational waves. However, we have only observed gravitational waves from compact binary black hole mergers and binary neutron star mergers. Supernovae will produce enormous gravitational wave signatures and are something we hope to eventually see. There are many other sources of gravitational waves, nearly every astonomical object leaves a gravitational wave signature. One recent proposal is that we might be able to find dark matter with gravitational waves by looking for objects produced in the early universe during the big bang, like Primordial Axions. \"\"\"\n",
    "\n",
    "</question>\n",
    "\n"
   ]
  },
  {
   "cell_type": "markdown",
   "id": "ead70661",
   "metadata": {
    "tags": [
     "learner",
     "md",
     "learner_chopped"
    ]
   },
   "source": [
    ">#### Follow-up 3.1.1a (ungraded)\n",
    ">   \n",
    ">Why have we only observed binary object mergers so far?"
   ]
  },
  {
   "cell_type": "markdown",
   "id": "0c4530c5",
   "metadata": {
    "tags": [
     "solution",
     "md"
    ]
   },
   "source": [
    "<div style=\"border:1.5px; border-style:solid; padding: 0.5em; border-color: #90409C; color: #90409C;\">\n",
    "\n",
    "**SOLUTION:**\n",
    "\n",
    "<pre>\n",
    "They leave a clear signature that we know how to model. \n",
    "</pre>\n",
    "        \n",
    "**EXPLANATION:**\n",
    "    \n",
    "Objects that rotate around each other yield an oscillatory signature. This signature is very distinct and something we have been able to model with current gravitational simulations. More complex objects, such as supernovae will take time and understanding to really observe. \n",
    "    \n",
    "</div>\n"
   ]
  },
  {
   "cell_type": "markdown",
   "id": "3c760ddb",
   "metadata": {
    "tags": [
     "catsoop_01",
     "md"
    ]
   },
   "source": [
    "><question multiplechoice>\n",
    "    \n",
    "#PROBLEM NAME AND SETTINGS\n",
    "#-------------------------------------------------------\n",
    "csq_name='L03_01_01_followup_a'\n",
    "csq_npoints = 0\n",
    "    \n",
    "\n",
    "#PROMPT\n",
    "#------------------------------------------------------- \n",
    "csq_prompt =\"\"\"#### <span style=\"color: #000000;\">Follow-up 3.1.1a (ungraded)</span>\n",
    "\n",
    "<span style=\"color: #000000;\">Why have we only observed binary object mergers so far?</span>\n",
    "\n",
    "\n",
    "ADD_FOLLOWUP_PROMPT\n",
    "    \n",
    "    \n",
    "#EXPLANATION\n",
    "#-------------------------------------------------------\n",
    "csq_explanation = r\"\"\"They leave a clear signature that we know how to model.\n",
    "    \n",
    "Objects that rotate around each other yield an oscillatory signature. This signature is very distinct and something we have been able to model with current gravitational simulations. More complex objects, such as supernovae will take time and understanding to really observe.\"\"\"\n",
    "</question>"
   ]
  },
  {
   "cell_type": "markdown",
   "id": "6a81e380",
   "metadata": {
    "tags": [
     "learner",
     "md",
     "learner_chopped"
    ]
   },
   "source": [
    "### <span style=\"border:3px; border-style:solid; padding: 0.15em; border-color: #90409C; color: #90409C;\">Ex-3.1.2 Ratio of Distances to Identical GW Sources</span>\n",
    "\n",
    "Assume two events that produce identical gravitational waves at their source occur at 500 MPc and 100 MPc away from Earth. What will be the ratio of the observed GW signal amplitudes of these events. Enter the ratio $GW_{500MPc}/GW_{100MPc}$ as a number."
   ]
  },
  {
   "cell_type": "markdown",
   "id": "6c762928",
   "metadata": {
    "tags": [
     "solution",
     "md"
    ]
   },
   "source": [
    "<div style=\"border:1.5px; border-style:solid; padding: 0.5em; border-color: #90409C; color: #90409C;\">\n",
    "\n",
    "**SOLUTION:**\n",
    "\n",
    "<pre>\n",
    "1/5\n",
    "</pre>\n",
    "        \n",
    "**EXPLANATION:**\n",
    "    \n",
    "Gravitational waves get weaker with distance like 1/r. Therefore a gravitational wave source that is 5 times farther away will be 1/5 weaker, if the sources are identical in nature.\n",
    "    \n",
    "</div>\n"
   ]
  },
  {
   "cell_type": "markdown",
   "id": "ce3bb696",
   "metadata": {
    "tags": [
     "md",
     "catsoop_01"
    ]
   },
   "source": [
    "<question pythonic>\n",
    "    \n",
    "#PROBLEM NAME AND SETTINGS\n",
    "#-------------------------------------------------------\n",
    "csq_name='L03_01_02'\n",
    "csq_npoints = 1\n",
    "    \n",
    "\n",
    "\n",
    "#PROMPT\n",
    "#------------------------------------------------------- \n",
    "csq_prompt =\"\"\"### Ex-3.1.2 Ratio of Distances to Identical GW Sources\n",
    "\n",
    "Assume two events that produce identical gravitational waves at their source occur at 500 MPc and 100 MPc away from Earth. What will be the ratio of the observed GW signal amplitudes of these events. Enter the ratio $GW_{500MPc}/GW_{100MPc}$ as a number.\n",
    "\"\"\"\n",
    "\n",
    "csq_soln = 0.2\n",
    "\n",
    "\n",
    "\n",
    "#EXPLANATION\n",
    "#-------------------------------------------------------\n",
    "csq_explanation = r\"\"\"Gravitational waves get weaker with distance like 1/r. Therefore a gravitational wave source that is 5 times farther away will be 1/5 weaker, if the sources are identical in nature.\"\"\"\n",
    "\n",
    "</question>\n",
    "\n"
   ]
  },
  {
   "cell_type": "markdown",
   "id": "1e58c280",
   "metadata": {
    "tags": [
     "learner",
     "md",
     "learner_chopped"
    ]
   },
   "source": [
    "<a name='section_3_2'></a>\n",
    "<hr style=\"height: 1px;\">\n",
    "\n",
    "## <h2 style=\"border:1px; border-style:solid; padding: 0.25em; color: #FFFFFF; background-color: #90409C\">L3.2 Identification of Gravitational Waves</h2>  \n",
    "\n",
    "| [Top](#section_3_0) | [Previous Section](#section_3_1) | [Exercises](#exercises_3_2) | [Next Section](#section_3_3) |\n"
   ]
  },
  {
   "cell_type": "markdown",
   "id": "b82625e2",
   "metadata": {
    "tags": [
     "learner",
     "md",
     "8S50x"
    ]
   },
   "source": [
    "*The material in this section is discussed in the video **<a href=\"https://courses.mitxonline.mit.edu/learn/course/course-v1:MITxT+8.S50.1x+3T2022/block-v1:MITxT+8.S50.1x+3T2022+type@sequential+block@seq_LS3/block-v1:MITxT+8.S50.1x+3T2022+type@vertical+block@vert_LS3_vid2\" target=\"_blank\">HERE</a>.** You are encouraged to watch that video and use this notebook concurrently.*"
   ]
  },
  {
   "cell_type": "markdown",
   "id": "3d9196fe",
   "metadata": {
    "tags": [
     "learner",
     "md"
    ]
   },
   "source": [
    "<h3>Slides</h3>\n",
    "\n",
    "Run the code below to view the slides for this section, which are discussed in the related video. You can also open the slides in a separate window <a href=\"https://mitx-8s50.github.io/slides/L03/slides2.html\" target=\"_blank\">HERE</a>."
   ]
  },
  {
   "cell_type": "code",
   "execution_count": null,
   "id": "a1ebe696",
   "metadata": {
    "tags": [
     "learner",
     "py",
     "learner_chopped"
    ]
   },
   "outputs": [],
   "source": [
    "#>>>RUN: L3.2-slides\n",
    "\n",
    "from IPython.display import IFrame\n",
    "IFrame(src='https://mitx-8s50.github.io/slides/L03/slides2.html', width=975, height=550)"
   ]
  },
  {
   "cell_type": "markdown",
   "id": "2c193ce0",
   "metadata": {
    "tags": [
     "md",
     "lect_02"
    ]
   },
   "source": [
    "<h3>Slides</h3>\n",
    "\n",
    "View the slides for this section below, which are discussed in the related video. You can also open the slides in a separate window <a href=\"https://mitx-8s50.github.io/slides/L03/slides2.html\" target=\"_blank\">HERE</a>.\n",
    "\n",
    "<p align=\"center\">\n",
    "<iframe src=\"https://mitx-8s50.github.io/slides/L03/slides2.html\" width=\"900\", height=\"550\" frameBorder=\"0\"/>\n",
    "</p>"
   ]
  },
  {
   "cell_type": "markdown",
   "id": "6eb2409b",
   "metadata": {
    "tags": [
     "learner",
     "md",
     "learner_chopped"
    ]
   },
   "source": [
    "<a name='exercises_3_2'></a>     \n",
    "\n",
    "| [Top](#section_3_0) | [Restart Section](#section_3_2) | [Next Section](#section_3_3) |\n"
   ]
  },
  {
   "cell_type": "markdown",
   "id": "e544a038",
   "metadata": {
    "tags": [
     "learner",
     "md",
     "learner_chopped"
    ]
   },
   "source": [
    "### <span style=\"border:3px; border-style:solid; padding: 0.15em; border-color: #90409C; color: #90409C;\">Ex-3.2.1 Understanding the Length Scale of LIGO Measurements</span>\n",
    "\n",
    "Currently LIGO is able to measure displacements on the order of $\\Delta L \\approx 3 \\times 10^{-19}\\,\\mathrm{m}$. How does this compare to the established size of a proton? Specifically, what is the ratio $\\Delta L /D$, where D is the diameter of a proton.\n",
    "\n",
    "Enter your answer as a number with precision `5e-5`."
   ]
  },
  {
   "cell_type": "markdown",
   "id": "8c544f23",
   "metadata": {
    "tags": [
     "solution",
     "md"
    ]
   },
   "source": [
    "<div style=\"border:1.5px; border-style:solid; padding: 0.5em; border-color: #90409C; color: #90409C;\">\n",
    "        \n",
    "**EXPLANATION:**\n",
    "    \n",
    "A proton has a diameter $D \\approx 0.84 \\times 10^{-15}$, so the ratio in question is $\\Delta L /D \\approx 3.57 \\times 10^{-4}$.\n",
    "    \n",
    "</div>\n"
   ]
  },
  {
   "cell_type": "markdown",
   "id": "8a1fe03f",
   "metadata": {
    "tags": [
     "catsoop_02",
     "md"
    ]
   },
   "source": [
    "<question pythonic>\n",
    "    \n",
    "#PROBLEM NAME AND SETTINGS\n",
    "#-------------------------------------------------------\n",
    "csq_name='L03_02_01'\n",
    "csq_npoints = 1\n",
    "    \n",
    "\n",
    "\n",
    "#PROMPT\n",
    "#------------------------------------------------------- \n",
    "csq_prompt =r\"\"\"### Ex-3.2.2 Understanding the Length Scale of LIGO Measurements\n",
    "\n",
    "Currently LIGO is able to measure displacements on the order of $\\Delta L \\approx 3 \\times 10^{-19}\\,\\mathrm{m}$. How does this compare to the established size of a proton? Specifically, what is the ratio $\\Delta L /D$, where D is the diameter of a proton.\n",
    "\n",
    "Enter your answer as a number with precision `5e-5`.\n",
    "\"\"\"\n",
    "\n",
    "#SOLUTION CODE HERE\n",
    "#-------------------------------------------------------\n",
    "csq_soln = 3.57*10**(-4)\n",
    "\n",
    "csq_check_function = lambda submission, solution: abs(submission-solution) <= 5e-5\n",
    "\n",
    "\n",
    "#EXPLANATION\n",
    "#-------------------------------------------------------\n",
    "csq_explanation = r\"\"\"A proton has a diameter $D \\approx = 0.84 \\times 10^{-15}$, so the ratio in question is $\\Delta L /D \\approx 3.57 \\times 10^{-4}$.\"\"\"\n",
    "\n",
    "</question>\n",
    "\n"
   ]
  },
  {
   "cell_type": "markdown",
   "id": "10e431f4",
   "metadata": {
    "tags": [
     "learner",
     "md",
     "learner_chopped"
    ]
   },
   "source": [
    "<a name='section_3_3'></a>\n",
    "<hr style=\"height: 1px;\">\n",
    "\n",
    "## <h2 style=\"border:1px; border-style:solid; padding: 0.25em; color: #FFFFFF; background-color: #90409C\">L3.3 Time-Frequency Analysis of Gravitational Wave Data</h2>  \n",
    "\n",
    "| [Top](#section_3_0) | [Previous Section](#section_3_2) | [Exercises](#exercises_3_3) | [Next Section](#section_3_4) |\n"
   ]
  },
  {
   "cell_type": "markdown",
   "id": "6cdadf7d",
   "metadata": {
    "tags": [
     "learner",
     "md",
     "8S50x"
    ]
   },
   "source": [
    "*The material in this section is discussed in the video **<a href=\"https://courses.mitxonline.mit.edu/learn/course/course-v1:MITxT+8.S50.1x+3T2022/block-v1:MITxT+8.S50.1x+3T2022+type@sequential+block@seq_LS3/block-v1:MITxT+8.S50.1x+3T2022+type@vertical+block@vert_LS3_vid3\" target=\"_blank\">HERE</a>.** You are encouraged to watch that video and use this notebook concurrently.*"
   ]
  },
  {
   "cell_type": "markdown",
   "id": "913bc65d",
   "metadata": {
    "tags": [
     "learner",
     "md"
    ]
   },
   "source": [
    "<h3>Video Note</h3>\n",
    "\n",
    "The audio files played in the video can be found in the related data directly for this notebook: data/L03\n",
    "\n",
    "Also here: https://github.com/mitx-8s50/nb_LEARNER/blob/main/data/L03"
   ]
  },
  {
   "cell_type": "markdown",
   "id": "4536c850",
   "metadata": {
    "tags": [
     "learner",
     "md"
    ]
   },
   "source": [
    "<h3>Slides</h3>\n",
    "\n",
    "Run the code below to view the slides for this section, which are discussed in the related video. You can also open the slides in a separate window <a href=\"https://mitx-8s50.github.io/slides/L03/slides3.html\" target=\"_blank\">HERE</a>."
   ]
  },
  {
   "cell_type": "code",
   "execution_count": null,
   "id": "d57d2134",
   "metadata": {
    "tags": [
     "learner",
     "py",
     "learner_chopped"
    ]
   },
   "outputs": [],
   "source": [
    "#>>>RUN: L3.3-slides\n",
    "\n",
    "from IPython.display import IFrame\n",
    "IFrame(src='https://mitx-8s50.github.io/slides/L03/slides3.html', width=975, height=550)"
   ]
  },
  {
   "cell_type": "markdown",
   "id": "f93887bf",
   "metadata": {
    "tags": [
     "md",
     "lect_03"
    ]
   },
   "source": [
    "<h3>Slides</h3>\n",
    "\n",
    "View the slides for this section below, which are discussed in the related video. You can also open the slides in a separate window <a href=\"https://mitx-8s50.github.io/slides/L03/slides3.html\" target=\"_blank\">HERE</a>.\n",
    "\n",
    "<p align=\"center\">\n",
    "<iframe src=\"https://mitx-8s50.github.io/slides/L03/slides3.html\" width=\"900\", height=\"550\" frameBorder=\"0\"/>\n",
    "</p>"
   ]
  },
  {
   "cell_type": "markdown",
   "id": "7f01898a",
   "metadata": {
    "tags": [
     "learner",
     "md",
     "learner_chopped"
    ]
   },
   "source": [
    "<a name='exercises_3_3'></a>     \n",
    "\n",
    "| [Top](#section_3_0) | [Restart Section](#section_3_3) | [Next Section](#section_3_4) |\n"
   ]
  },
  {
   "cell_type": "markdown",
   "id": "da18d527",
   "metadata": {
    "tags": [
     "learner",
     "md",
     "learner_chopped"
    ]
   },
   "source": [
    "### <span style=\"border:3px; border-style:solid; padding: 0.15em; border-color: #90409C; color: #90409C;\">Ex-3.3.1 Practice With Fourier Transforms I</span>\n",
    "\n",
    "Let's practice using Fourier transforms on some data! First, let's just generate a dataset with two frequencies, say 400 Hertz and 4000 Hertz, then add them together and plot the sum.  What does the combination of the two waves look like? \n",
    "\n",
    "- You see a big sine wave corresponding to the lower frequency, with higher frequency sine waves oscillations superimposed along it\n",
    "- The result does not look sinusoidal at all\n",
    "- You see just one sine wave\n",
    "- You see a beat pattern corresponding to the difference in the two frequencies\n",
    "   \n",
    "Use the starting code below to make these plots. You might want to take a look at the following resource to learn more about fft: https://docs.scipy.org/doc/scipy/tutorial/fft.html"
   ]
  },
  {
   "cell_type": "code",
   "execution_count": null,
   "id": "7fbf3460",
   "metadata": {
    "scrolled": false,
    "tags": [
     "draft",
     "py",
     "learner_chopped"
    ]
   },
   "outputs": [],
   "source": [
    "#>>>EXERCISE: L3.3.1\n",
    "# Use this cell for drafting your solution (if desired),\n",
    "# then enter your solution in the interactive problem online to be graded.\n",
    "\n",
    "import numpy as np\n",
    "from matplotlib import pyplot as plt\n",
    "\n",
    "# First we'll create some data. \n",
    "def generate_sine_wave(freq, sample_rate, duration):\n",
    "    x = np.linspace(0, duration, sample_rate * duration, endpoint=False)\n",
    "    frequencies = x * freq\n",
    "    # 2pi because np.sin takes radians\n",
    "    y = np.sin((2 * np.pi) * frequencies)\n",
    "    return x, y\n",
    "    \n",
    "# Mix two different sine waves \n",
    "SAMPLE_RATE = 45000  # Hertz\n",
    "DURATION = 5  # Seconds\n",
    "_, tone1 = generate_sine_wave(400, SAMPLE_RATE, DURATION)\n",
    "_, tone2 = generate_sine_wave(4000, SAMPLE_RATE, DURATION)\n",
    "\n",
    "mixed_tone = tone1 + tone2\n",
    "\n",
    "plt.plot(mixed_tone[:1000])\n",
    "plt.show()\n"
   ]
  },
  {
   "cell_type": "markdown",
   "id": "4bd19732",
   "metadata": {
    "tags": [
     "solution",
     "md"
    ]
   },
   "source": [
    "<div style=\"border:1.5px; border-style:solid; padding: 0.5em; border-color: #90409C; color: #90409C;\">\n",
    "\n",
    "**SOLUTION:**\n",
    "\n",
    "<pre>\n",
    "You see a big sine wave corresponding to the lower frequency, with higher frequency sine waves oscillations superimposed along it\n",
    "</pre>\n",
    "        \n",
    "**EXPLANATION:**\n",
    "    \n",
    "This is just a plot to get you started thinking about how datasets containing more than one wave look like. \n",
    "    \n",
    "</div>\n"
   ]
  },
  {
   "cell_type": "markdown",
   "id": "12648e38",
   "metadata": {
    "tags": [
     "catsoop_03",
     "md"
    ]
   },
   "source": [
    "<question multiplechoice>\n",
    "    \n",
    "#PROBLEM NAME AND SETTINGS\n",
    "#-------------------------------------------------------\n",
    "csq_name='L03_03_01'\n",
    "csq_npoints = 1\n",
    "    \n",
    "\n",
    "\n",
    "#PROMPT\n",
    "#------------------------------------------------------- \n",
    "csq_prompt =\"\"\"### Ex-3.3.1 Practice With Fourier Transforms I\n",
    "\n",
    "Let's practice using Fourier transforms on some data! First, let's just generate a dataset with two frequencies, say 400 Hertz and 4000 Hertz, then add them together and plot the sum.  What does the combination of the two waves look like?\n",
    "   \n",
    "Use the starting code below to make these plots. You might want to take a look at the following resource to learn more about fft: https://docs.scipy.org/doc/scipy/tutorial/fft.html\n",
    "    \n",
    "\n",
    "ADD_OPTION_RUN_CODE\n",
    "\n",
    "import numpy as np\n",
    "from matplotlib import pyplot as plt\n",
    "\n",
    "# First we'll create some data. \n",
    "def generate_sine_wave(freq, sample_rate, duration):\n",
    "    x = np.linspace(0, duration, sample_rate * duration, endpoint=False)\n",
    "    frequencies = x * freq\n",
    "    # 2pi because np.sin takes radians\n",
    "    y = np.sin((2 * np.pi) * frequencies)\n",
    "    return x, y\n",
    "    \n",
    "# Mix two different sine waves \n",
    "SAMPLE_RATE = 45000  # Hertz\n",
    "DURATION = 5  # Seconds\n",
    "_, tone1 = generate_sine_wave(400, SAMPLE_RATE, DURATION)\n",
    "_, tone2 = generate_sine_wave(4000, SAMPLE_RATE, DURATION)\n",
    "\n",
    "mixed_tone = tone1 + tone2\n",
    "\n",
    "plt.plot(mixed_tone[:1000])\n",
    "plt.show()\n",
    "\n",
    "</div>\n",
    "<hr>\n",
    "<br>\n",
    "</div>\n",
    "\n",
    "Choose from the available options:\n",
    "\"\"\"\n",
    "\n",
    "    \n",
    "#OPTIONS\n",
    "#-------------------------------------------------------\n",
    "csq_renderer = 'radio'\n",
    "csq_options = ['You see a big sine wave corresponding to the lower frequency, with higher frequency sine waves oscillations superimposed along it',\n",
    "             'The result does not look sinusoidal at all',\n",
    "             'You see just one sine wave',\n",
    "             'You see a beat pattern corresponding to the difference in the two frequencies']\n",
    "    \n",
    "\n",
    "    \n",
    "#SOLUTION CODE HERE\n",
    "#--------------------------------------s-----------------\n",
    "csq_soln = 'You see a big sine wave corresponding to the lower frequency, with higher frequency sine waves oscillations superimposed along it'\n",
    "\n",
    "\n",
    "#EXPLANATION\n",
    "#-------------------------------------------------------\n",
    "csq_explanation = r\"\"\"This is just a plot to get you started thinking about how datasets containing more than one wave look like.\"\"\"\n",
    "\n",
    "</question>\n",
    "\n"
   ]
  },
  {
   "cell_type": "markdown",
   "id": "47f083fa",
   "metadata": {
    "tags": [
     "learner",
     "md",
     "learner_chopped"
    ]
   },
   "source": [
    "### <span style=\"border:3px; border-style:solid; padding: 0.15em; border-color: #90409C; color: #90409C;\">Ex-3.3.2 Practice With Fourier Transforms II</span>\n",
    "\n",
    "Now, run a Fourier transform on the mixed wave consisting of a 400 Hertz wave and a 4000 Hertz wave. Note the peaks in the Fourier spectrum. How does the transform change if you use two frequencies that are closer to each other? \n",
    "\n",
    "- The peaks in the Fourier spectrum get farther apart\n",
    "- The peaks in the Fourier spectrum get closer together\n",
    "- The Fourier spectrum does not change\n",
    "   \n",
    "Use the starting code below to make these plots. You might want to take a look at the following resource to learn more about fft: https://docs.scipy.org/doc/scipy/tutorial/fft.html\n",
    "\n",
    "Notice that in the case of combining two fairly close frequencies, the summed distribution does not look sinusoidal at all!"
   ]
  },
  {
   "cell_type": "code",
   "execution_count": null,
   "id": "01d1a1ec",
   "metadata": {
    "tags": [
     "draft",
     "py",
     "learner_chopped"
    ]
   },
   "outputs": [],
   "source": [
    "#>>>EXERCISE: L3.3.2\n",
    "# Use this cell for drafting your solution (if desired),\n",
    "# then enter your solution in the interactive problem online to be graded.\n",
    "\n",
    "import numpy as np\n",
    "from matplotlib import pyplot as plt\n",
    "from scipy.fft import fft, fftfreq\n",
    "\n",
    "# First we'll create some data. \n",
    "def generate_sine_wave(freq, sample_rate, duration):\n",
    "    x = np.linspace(0, duration, sample_rate * duration, endpoint=False)\n",
    "    frequencies = x * freq\n",
    "    # 2pi because np.sin takes radians\n",
    "    y = np.sin((2 * np.pi) * frequencies)\n",
    "    return x, y\n",
    "    \n",
    "# Mix two different sine waves \n",
    "SAMPLE_RATE = 45000  # Hertz\n",
    "DURATION = 5  # Seconds\n",
    "_, tone1 = generate_sine_wave(400, SAMPLE_RATE, DURATION)\n",
    "_, tone2 = generate_sine_wave(4000, SAMPLE_RATE, DURATION)\n",
    "\n",
    "mixed_tone = tone1 + tone2\n",
    "\n",
    "plt.plot(mixed_tone[:1000])\n",
    "plt.show()\n",
    "\n",
    "# Number of samples\n",
    "N = SAMPLE_RATE * DURATION\n",
    "\n",
    "# Perform Fourier transform\n",
    "yf = fft(mixed_tone)\n",
    "xf = fftfreq(N, 1/SAMPLE_RATE)\n",
    "plt.plot(xf, np.abs(yf))\n",
    "plt.xlim(0,4500)\n",
    "plt.show()\n"
   ]
  },
  {
   "cell_type": "markdown",
   "id": "4c685b79",
   "metadata": {
    "tags": [
     "solution",
     "md"
    ]
   },
   "source": [
    "<div style=\"border:1.5px; border-style:solid; padding: 0.5em; border-color: #90409C; color: #90409C;\">\n",
    "\n",
    "**SOLUTION:**\n",
    "\n",
    "<pre>\n",
    "\n",
    "The peaks get closer.\n",
    "\n",
    "</pre>\n",
    "        \n",
    "**EXPLANATION:**\n",
    "    \n",
    "In Fourier space, the sum of two sine waves corresponds to delta functions at their frequency of generation, so the Fourier transform just gives us a peak at the frequency of each sine wave. By construction, the Fourier transform also gives a peak at the negative values of the same frequencies.\n",
    "\n",
    "    \n",
    "</div>\n"
   ]
  },
  {
   "cell_type": "markdown",
   "id": "fae3ea37",
   "metadata": {
    "tags": [
     "catsoop_03",
     "md"
    ]
   },
   "source": [
    "<question multiplechoice>\n",
    "    \n",
    "#PROBLEM NAME AND SETTINGS\n",
    "#-------------------------------------------------------\n",
    "csq_name='L03_03_02'\n",
    "csq_npoints = 1\n",
    "    \n",
    "\n",
    "\n",
    "#PROMPT\n",
    "#------------------------------------------------------- \n",
    "csq_prompt =\"\"\"### Ex-3.3.2 Practice With Fourier Transforms II\n",
    "\n",
    "Now, run a Fourier transform on the mixed wave consisting of a 400 Hertz wave and a 4000 Hertz wave. Note the peaks in the Fourier spectrum. How does the transform change if you use two frequencies that are closer to each other? \n",
    "   \n",
    "Use the starting code below to make these plots. You might want to take a look at the following resource to learn more about fft: https://docs.scipy.org/doc/scipy/tutorial/fft.html\n",
    "\n",
    "Notice that in the case of combining two fairly close frequencies, the summed distribution does not look sinusoidal at all!\n",
    "\n",
    "ADD_OPTION_RUN_CODE\n",
    "\n",
    "import numpy as np\n",
    "from matplotlib import pyplot as plt\n",
    "from scipy.fft import fft, fftfreq\n",
    "\n",
    "# First we'll create some data. \n",
    "def generate_sine_wave(freq, sample_rate, duration):\n",
    "    x = np.linspace(0, duration, sample_rate * duration, endpoint=False)\n",
    "    frequencies = x * freq\n",
    "    # 2pi because np.sin takes radians\n",
    "    y = np.sin((2 * np.pi) * frequencies)\n",
    "    return x, y\n",
    "    \n",
    "# Mix two different sine waves \n",
    "SAMPLE_RATE = 45000  # Hertz\n",
    "DURATION = 5  # Seconds\n",
    "_, tone1 = generate_sine_wave(400, SAMPLE_RATE, DURATION)\n",
    "_, tone2 = generate_sine_wave(4000, SAMPLE_RATE, DURATION)\n",
    "\n",
    "mixed_tone = tone1 + tone2\n",
    "\n",
    "plt.plot(mixed_tone[:1000])\n",
    "plt.show()\n",
    "\n",
    "# Number of samples\n",
    "N = SAMPLE_RATE * DURATION\n",
    "\n",
    "# Perform Fourier transform\n",
    "yf = fft(mixed_tone)\n",
    "xf = fftfreq(N, 1/SAMPLE_RATE)\n",
    "plt.plot(xf, np.abs(yf))\n",
    "plt.xlim(0,4500)\n",
    "plt.show()\n",
    "    \n",
    "</div>\n",
    "<hr>\n",
    "<br>\n",
    "</div>\n",
    "\"\"\"\n",
    "\n",
    "    \n",
    "#OPTIONS\n",
    "#-------------------------------------------------------\n",
    "csq_renderer = 'radio'\n",
    "csq_options = ['the peaks in the Fourier spectrum get farther apart',\n",
    "             'the peaks in the Fourier spectrum get closer together',\n",
    "             'the Fourier spectrum does not change']\n",
    "    \n",
    "\n",
    "    \n",
    "#SOLUTION CODE HERE\n",
    "#--------------------------------------s-----------------\n",
    "csq_soln = 'the peaks in the Fourier spectrum get closer together'\n",
    "\n",
    "\n",
    "#EXPLANATION\n",
    "#-------------------------------------------------------\n",
    "csq_explanation = r\"\"\"In Fourier space, the sum of two sine waves corresponds to delta functions at their frequency of generation, so the Fourier transform just gives us a peak at the frequency of each sine wave. By construction, the Fourier transform also gives a peak at the negative values of the same frequencies.\n",
    "\"\"\"\n",
    "\n",
    "</question>\n",
    "\n"
   ]
  },
  {
   "cell_type": "markdown",
   "id": "165c43f3",
   "metadata": {
    "tags": [
     "learner",
     "md",
     "learner_chopped"
    ]
   },
   "source": [
    ">#### Follow-up 3.3.2a (ungraded)\n",
    ">   \n",
    ">What is the integral of the Fourier spectrum? Why are we taking the absolute values when we plot the Fourier distribution?"
   ]
  },
  {
   "cell_type": "markdown",
   "id": "73327ad1",
   "metadata": {
    "tags": [
     "solution",
     "md"
    ]
   },
   "source": [
    "<div style=\"border:1.5px; border-style:solid; padding: 0.5em; border-color: #90409C; color: #90409C;\">\n",
    "\n",
    "**SOLUTION:**\n",
    "    \n",
    "<pre>\n",
    "</pre>\n",
    "        \n",
    "**EXPLANATION:**\n",
    "    \n",
    "The integral of the spectrum is the number of samples times 2 for the sum of two waves with amplitudes of 1. More generally, the integral is $N_{samples} \\times \\sum_{i}|A_{i}|$ where $A_{i}$ are the amplitudes of the waves. \n",
    "\n",
    "The output of the Fourier transform contains both a real component and an imaginary component, we take the absolute value to get the magnitude. \n",
    "    \n",
    "</div>\n"
   ]
  },
  {
   "cell_type": "markdown",
   "id": "5c6b252d",
   "metadata": {
    "tags": [
     "md",
     "catsoop_03"
    ]
   },
   "source": [
    "><question multiplechoice>\n",
    "    \n",
    "#PROBLEM NAME AND SETTINGS\n",
    "#-------------------------------------------------------\n",
    "csq_name='L03_03_02_followup_a'\n",
    "csq_npoints = 0\n",
    "    \n",
    "\n",
    "#PROMPT\n",
    "#------------------------------------------------------- \n",
    "csq_prompt =\"\"\"#### <span style=\"color: #000000;\">Follow-up 3.3.2a (ungraded)</span>\n",
    "\n",
    "<span style=\"color: #000000;\">What is the integral of the Fourier spectrum? Why are we taking the absolute values when we plot the Fourier distribution?</span>\n",
    "\n",
    "\n",
    "ADD_FOLLOWUP_PROMPT\n",
    "    \n",
    "    \n",
    "#EXPLANATION\n",
    "#-------------------------------------------------------\n",
    "csq_explanation = r\"\"\"The integral of the spectrum is the number of samples times 2 for the sum of two waves with amplitudes of 1. More generally, the integral is $N_{samples} \\times \\sum_{i}|A_{i}|$ where $A_{i}$ are the amplitudes of the waves. \n",
    "\n",
    "The output of the Fourier transform contains both a real component and an imaginary component, we take the absolute value to get the magnitude.\"\"\"\n",
    "</question>\n"
   ]
  },
  {
   "cell_type": "markdown",
   "id": "d2ae4e96",
   "metadata": {
    "tags": [
     "learner",
     "md",
     "learner_chopped"
    ]
   },
   "source": [
    "<a name='section_3_4'></a>\n",
    "<hr style=\"height: 1px;\">\n",
    "\n",
    "## <h2 style=\"border:1px; border-style:solid; padding: 0.25em; color: #FFFFFF; background-color: #90409C\">L3.4 Signal-to-Noise Sensitivity</h2>  \n",
    "\n",
    "| [Top](#section_3_0) | [Previous Section](#section_3_3) | [Exercises](#exercises_3_4) | [Next Section](#section_3_5) |\n"
   ]
  },
  {
   "cell_type": "markdown",
   "id": "0e0e98cb",
   "metadata": {
    "tags": [
     "learner",
     "md",
     "8S50x"
    ]
   },
   "source": [
    "*The material in this section is discussed in the video **<a href=\"https://courses.mitxonline.mit.edu/learn/course/course-v1:MITxT+8.S50.1x+3T2022/block-v1:MITxT+8.S50.1x+3T2022+type@sequential+block@seq_LS3/block-v1:MITxT+8.S50.1x+3T2022+type@vertical+block@vert_LS3_vid4\" target=\"_blank\">HERE</a>.** You are encouraged to watch that video and use this notebook concurrently.*"
   ]
  },
  {
   "cell_type": "markdown",
   "id": "2848d13a",
   "metadata": {
    "tags": [
     "learner",
     "md"
    ]
   },
   "source": [
    "<h3>Slides</h3>\n",
    "\n",
    "Run the code below to view the slides for this section, which are discussed in the related video. You can also open the slides in a separate window <a href=\"https://mitx-8s50.github.io/slides/L03/slides4.html\" target=\"_blank\">HERE</a>."
   ]
  },
  {
   "cell_type": "code",
   "execution_count": null,
   "id": "d77d444a",
   "metadata": {
    "tags": [
     "learner",
     "py",
     "learner_chopped"
    ]
   },
   "outputs": [],
   "source": [
    "#>>>RUN: L3.4-slides\n",
    "\n",
    "from IPython.display import IFrame\n",
    "IFrame(src='https://mitx-8s50.github.io/slides/L03/slides4.html', width=975, height=550)"
   ]
  },
  {
   "cell_type": "markdown",
   "id": "39bf1d96",
   "metadata": {
    "tags": [
     "md",
     "lect_04"
    ]
   },
   "source": [
    "<h3>Slides</h3>\n",
    "\n",
    "View the slides for this section below, which are discussed in the related video. You can also open the slides in a separate window <a href=\"https://mitx-8s50.github.io/slides/L03/slides4.html\" target=\"_blank\">HERE</a>.\n",
    "\n",
    "<p align=\"center\">\n",
    "<iframe src=\"https://mitx-8s50.github.io/slides/L03/slides4.html\" width=\"900\", height=\"550\" frameBorder=\"0\"/>\n",
    "</p>"
   ]
  },
  {
   "cell_type": "markdown",
   "id": "c6dea8e2",
   "metadata": {
    "tags": [
     "learner",
     "md",
     "learner_chopped"
    ]
   },
   "source": [
    "<a name='exercises_3_4'></a>     \n",
    "\n",
    "| [Top](#section_3_0) | [Restart Section](#section_3_4) | [Next Section](#section_3_5) |\n"
   ]
  },
  {
   "cell_type": "markdown",
   "id": "5e1049d2",
   "metadata": {
    "tags": [
     "learner",
     "md",
     "learner_chopped"
    ]
   },
   "source": [
    "### <span style=\"border:3px; border-style:solid; padding: 0.15em; border-color: #90409C; color: #90409C;\">Ex-3.4.1 Sources of High Frequency Noise</span>\n",
    "\n",
    "What is a source of very high-frequency noise in gravitational wave detection? Choose the best answer from the following list.\n",
    "\n",
    "- shot noise\n",
    "- seismic noise\n",
    "- cars and trucks\n",
    "- electronic interference\n"
   ]
  },
  {
   "cell_type": "markdown",
   "id": "441217ef",
   "metadata": {
    "tags": [
     "solution",
     "md"
    ]
   },
   "source": [
    "<div style=\"border:1.5px; border-style:solid; padding: 0.5em; border-color: #90409C; color: #90409C;\">\n",
    "\n",
    "**SOLUTION:**\n",
    "\n",
    "<pre>\n",
    "shot noise\n",
    "</pre>\n",
    "        \n",
    "**EXPLANATION:**\n",
    "    \n",
    "Shot noise, otherwise referred to as \"Quantum Noise\" is the noise coming from the laser beam. It can be reduced by increasing the intensity of the laser or by going into a squeezed state to reduce the overall position uncertainty, which allows for lower noise at high frequency. \n",
    "    \n",
    "</div>\n"
   ]
  },
  {
   "cell_type": "markdown",
   "id": "fbdda985",
   "metadata": {
    "tags": [
     "catsoop_04",
     "md"
    ]
   },
   "source": [
    "<question multiplechoice>\n",
    "    \n",
    "#PROBLEM NAME AND SETTINGS\n",
    "#-------------------------------------------------------\n",
    "csq_name='L03_04_01'\n",
    "csq_npoints = 1\n",
    "    \n",
    "\n",
    "\n",
    "#PROMPT\n",
    "#------------------------------------------------------- \n",
    "csq_prompt =\"\"\"### Ex-3.4.1 Sources of High Frequency Noise\n",
    "\n",
    "What is a source of very high-frequency noise in gravitational wave detection? Choose the best answer from the following list.\n",
    "\"\"\"\n",
    "\n",
    "\n",
    "#OPTIONS\n",
    "#-------------------------------------------------------\n",
    "csq_renderer = 'radio'\n",
    "csq_options = ['shot noise',\n",
    "             'seismic noise',\n",
    "             'cars and trucks',\n",
    "             'electronic interference']\n",
    "\n",
    "    \n",
    "    \n",
    "#SOLUTION CODE HERE\n",
    "#-------------------------------------------------------\n",
    "csq_soln = 'shot noise'\n",
    "\n",
    "\n",
    "#EXPLANATION\n",
    "#-------------------------------------------------------\n",
    "csq_explanation = r\"\"\"Shot noise, otherwise referred to as \"Quantum Noise\" is the noise coming from the laser beam. It can be reduced by increasing the intensity of the laser or by going into a squeezed state to reduce the overall position uncertainty, which allows for lower noise at high frequency. \"\"\"\n",
    "\n",
    "</question>\n",
    "\n"
   ]
  },
  {
   "cell_type": "markdown",
   "id": "f869d7f4",
   "metadata": {
    "tags": [
     "learner",
     "md",
     "learner_chopped"
    ]
   },
   "source": [
    "### <span style=\"border:3px; border-style:solid; padding: 0.15em; border-color: #90409C; color: #90409C;\">Exercise 3.4.2 Sources of Low Frequency Noise</span>\n",
    "\n",
    "What is a source of very low-frequency noise in gravitational wave detection? Again, choose the best answer from the following list.\n",
    "\n",
    "- shot noise\n",
    "- seismic noise\n",
    "- cars and trucks\n",
    "- electronic interference\n"
   ]
  },
  {
   "cell_type": "markdown",
   "id": "7e09bec8",
   "metadata": {
    "tags": [
     "solution",
     "md"
    ]
   },
   "source": [
    "<div style=\"border:1.5px; border-style:solid; padding: 0.5em; border-color: #90409C; color: #90409C;\">\n",
    "\n",
    "**SOLUTION:**\n",
    "\n",
    "<pre>\n",
    "\n",
    "sesimic noise\n",
    "\n",
    "</pre>\n",
    "        \n",
    "**EXPLANATION:**\n",
    "    \n",
    "Here the issue is to get to the lowest frequency of object. Cars and trucks are pretty low frequency, but seismic noise can be even lower. Furthermore, Seismic noise tends to dominate the low frequency noise limit. This is something we could potentially improve up and make a better experiment with. \n",
    "    \n",
    "</div>\n"
   ]
  },
  {
   "cell_type": "markdown",
   "id": "5c94297d",
   "metadata": {
    "tags": [
     "catsoop_04",
     "md"
    ]
   },
   "source": [
    "<question multiplechoice>\n",
    "    \n",
    "#PROBLEM NAME AND SETTINGS\n",
    "#-------------------------------------------------------\n",
    "csq_name='L03_04_02'\n",
    "csq_npoints = 1\n",
    "    \n",
    "\n",
    "\n",
    "#PROMPT\n",
    "#------------------------------------------------------- \n",
    "csq_prompt =\"\"\"### Ex-3.4.2 Sources of Low Frequency Noise\n",
    "\n",
    "What is a source of very low-frequency noise in gravitational wave detection? Again, choose the best answer from the following list.\n",
    "\"\"\"\n",
    "\n",
    "\n",
    "#OPTIONS\n",
    "#-------------------------------------------------------\n",
    "csq_renderer = 'radio'\n",
    "csq_options = ['shot noise',\n",
    "             'seismic noise',\n",
    "             'cars and trucks',\n",
    "             'electronic interference']\n",
    "\n",
    "    \n",
    "    \n",
    "#SOLUTION CODE HERE\n",
    "#-------------------------------------------------------\n",
    "csq_soln = 'seismic noise'\n",
    "\n",
    "\n",
    "#EXPLANATION\n",
    "#-------------------------------------------------------\n",
    "csq_explanation = r\"\"\"Here, the issue is to get to the lowest frequency object. Cars and trucks are pretty low frequency, but seismic noise can be even lower. Furthermore, seismic noise tends to dominate the low frequency noise limit. This is something that could potentially be improved in a better experimental setup. \n",
    "\"\"\"\n",
    "\n",
    "</question>\n",
    "\n"
   ]
  },
  {
   "cell_type": "markdown",
   "id": "db7b832a",
   "metadata": {
    "tags": [
     "learner",
     "md",
     "learner_chopped"
    ]
   },
   "source": [
    "<a name='section_3_5'></a>\n",
    "<hr style=\"height: 1px;\">\n",
    "\n",
    "## <h2 style=\"border:1px; border-style:solid; padding: 0.25em; color: #FFFFFF; background-color: #90409C\">L3.5 Pinpointing Gravitational Wave Events</h2>     \n",
    "\n",
    "| [Top](#section_3_0) | [Previous Section](#section_3_4) | [Exercises](#exercises_3_5) |\n"
   ]
  },
  {
   "cell_type": "markdown",
   "id": "366204b0",
   "metadata": {
    "tags": [
     "learner",
     "md",
     "8S50x"
    ]
   },
   "source": [
    "*The material in this section is discussed in the video **<a href=\"https://courses.mitxonline.mit.edu/learn/course/course-v1:MITxT+8.S50.1x+3T2022/block-v1:MITxT+8.S50.1x+3T2022+type@sequential+block@seq_LS3/block-v1:MITxT+8.S50.1x+3T2022+type@vertical+block@vert_LS3_vid5\" target=\"_blank\">HERE</a>.** You are encouraged to watch that video and use this notebook concurrently.*"
   ]
  },
  {
   "cell_type": "markdown",
   "id": "d09197c9",
   "metadata": {
    "tags": [
     "learner",
     "md"
    ]
   },
   "source": [
    "<h3>Slides</h3>\n",
    "\n",
    "Run the code below to view the slides for this section, which are discussed in the related video. You can also open the slides in a separate window <a href=\"https://mitx-8s50.github.io/slides/L03/slides5.html\" target=\"_blank\">HERE</a>."
   ]
  },
  {
   "cell_type": "code",
   "execution_count": null,
   "id": "b4c25c43",
   "metadata": {
    "tags": [
     "learner",
     "py",
     "learner_chopped"
    ]
   },
   "outputs": [],
   "source": [
    "#>>>RUN: L3.5-slides\n",
    "\n",
    "from IPython.display import IFrame\n",
    "IFrame(src='https://mitx-8s50.github.io/slides/L03/slides5.html', width=975, height=550)"
   ]
  },
  {
   "cell_type": "markdown",
   "id": "2de30273",
   "metadata": {
    "tags": [
     "md",
     "lect_05"
    ]
   },
   "source": [
    "<h3>Slides</h3>\n",
    "\n",
    "View the slides for this section below, which are discussed in the related video. You can also open the slides in a separate window <a href=\"https://mitx-8s50.github.io/slides/L03/slides5.html\" target=\"_blank\">HERE</a>.\n",
    "\n",
    "<p align=\"center\">\n",
    "<iframe src=\"https://mitx-8s50.github.io/slides/L03/slides5.html\" width=\"900\", height=\"550\" frameBorder=\"0\"/>\n",
    "</p>"
   ]
  },
  {
   "cell_type": "markdown",
   "id": "b7e077eb",
   "metadata": {
    "tags": [
     "learner",
     "md",
     "learner_chopped"
    ]
   },
   "source": [
    "<a name='exercises_3_5'></a>   \n",
    "\n",
    "| [Top](#section_3_0) | [Restart Section](#section_3_5) |\n"
   ]
  },
  {
   "cell_type": "markdown",
   "id": "7ac82034",
   "metadata": {
    "tags": [
     "learner",
     "md",
     "learner_chopped"
    ]
   },
   "source": [
    "### <span style=\"border:3px; border-style:solid; padding: 0.15em; border-color: #90409C; color: #90409C;\">Ex-3.5.1 Pinpointing GW Sources</span>\n",
    "\n",
    "How many detectors (minimum) are needed to pinpoint a source in the sky? Enter your answer as a number.\n"
   ]
  },
  {
   "cell_type": "markdown",
   "id": "86074af1",
   "metadata": {
    "tags": [
     "solution",
     "md"
    ]
   },
   "source": [
    "<div style=\"border:1.5px; border-style:solid; padding: 0.5em; border-color: #90409C; color: #90409C;\">\n",
    "\n",
    "**SOLUTION:**\n",
    "\n",
    "<pre>\n",
    "2\n",
    "</pre>\n",
    "        \n",
    "**EXPLANATION:**\n",
    "    \n",
    "Two detectors give us a vector that we can point to in the sky. Imagine a wave hitting two points on earth at two different times. More and more detectors will help us narrow down in the sky where the source is!\n",
    "    \n",
    "</div>\n"
   ]
  },
  {
   "cell_type": "markdown",
   "id": "49213e73",
   "metadata": {
    "tags": [
     "catsoop_05",
     "md"
    ]
   },
   "source": [
    "<question pythonic>\n",
    "    \n",
    "#PROBLEM NAME AND SETTINGS\n",
    "#-------------------------------------------------------\n",
    "csq_name='L03_05_01'\n",
    "csq_npoints = 1\n",
    "    \n",
    "\n",
    "\n",
    "#PROMPT\n",
    "#------------------------------------------------------- \n",
    "csq_prompt =\"\"\"### Ex-3.5.1 Pinpointing GW Sources\n",
    "\n",
    "How many detectors (minimum) are needed to pinpoint a source in the sky? Enter your answer as a number.\n",
    "\"\"\"\n",
    "\n",
    "\n",
    "#SOLUTION CODE\n",
    "#-------------------------------------------------------\n",
    "csq_soln=2\n",
    "   \n",
    "\n",
    "\n",
    "#EXPLANATION\n",
    "#-------------------------------------------------------\n",
    "csq_explanation = r\"\"\"Two detectors give us a vector that we can point to in the sky. Imagine a wave hitting two points on earth at two different times. More and more detectors will help us narrow down in the sky where the source is!\"\"\"\n",
    "\n",
    "</question>\n",
    "\n"
   ]
  },
  {
   "cell_type": "markdown",
   "id": "af30efa0",
   "metadata": {
    "tags": [
     "learner",
     "md",
     "learner_chopped"
    ]
   },
   "source": [
    "### <span style=\"border:3px; border-style:solid; padding: 0.15em; border-color: #90409C; color: #90409C;\">Ex-3.5.2 Towards Precision Detection</span>\n",
    "\n",
    "What is the *most precise* way to pinpoint the star system or region in which a GW event occurred?\n",
    "\n",
    "- Upgrading existing GW detectors\n",
    "- Adding more GW detectors\n",
    "- Detecting a multi-messenger GW event using an optical telescope\n",
    "- Detecting a multi-messenger GW event using a radio telescope\n"
   ]
  },
  {
   "cell_type": "markdown",
   "id": "8b0373e0",
   "metadata": {
    "tags": [
     "solution",
     "md"
    ]
   },
   "source": [
    "<div style=\"border:1.5px; border-style:solid; padding: 0.5em; border-color: #90409C; color: #90409C;\">\n",
    "\n",
    "**SOLUTION:**\n",
    "\n",
    "<pre>\n",
    "\n",
    "Detecting a multi-messenger GW event using an optical telescope\n",
    "\n",
    "</pre>\n",
    "        \n",
    "**EXPLANATION:**\n",
    "    \n",
    "Even if we have many LIGO detectors, our position resolution will never be great. However, telescopes have super precise position resolution. Unfortunately, we need to have an optical and GW event occurring simultaneously for this to be possible. This is what we call a multi-messenger event. \n",
    "    \n",
    "</div>\n"
   ]
  },
  {
   "cell_type": "markdown",
   "id": "ca658a54",
   "metadata": {
    "tags": [
     "catsoop_05",
     "md"
    ]
   },
   "source": [
    "<question multiplechoice>\n",
    "    \n",
    "#PROBLEM NAME AND SETTINGS\n",
    "#-------------------------------------------------------\n",
    "csq_name='L03_05_02'\n",
    "csq_npoints = 1\n",
    "    \n",
    "\n",
    "\n",
    "#PROMPT\n",
    "#------------------------------------------------------- \n",
    "csq_prompt =\"\"\"### Ex-3.5.2 Towards Precision Detection\n",
    "\n",
    "What is the *most precise* way to pinpoint the star system or region in which a GW event occurred?\n",
    "\"\"\"\n",
    "\n",
    "    \n",
    "#OPTIONS\n",
    "#-------------------------------------------------------\n",
    "csq_renderer = 'radio'\n",
    "csq_options = ['Upgrading existing GW detectors',\n",
    "    'Adding more GW detectors',\n",
    "    'Detecting a multi-messenger GW event using an optical telescope',\n",
    "    'Detecting a multi-messenger GW event using a radio telescope']\n",
    "    \n",
    "    \n",
    "#SOLUTION CODE HERE\n",
    "#-------------------------------------------------------\n",
    "csq_soln = 'Detecting a multi-messenger GW event using an optical telescope'\n",
    "\n",
    "   \n",
    "\n",
    "\n",
    "#EXPLANATION\n",
    "#-------------------------------------------------------\n",
    "csq_explanation = r\"\"\"Even if we have many LIGO detectors, our position resolution will never be great. However, telescopes have super precise position resolution. Unfortunately, we need to have an optical and GW event occurring simultaneously for this to be possible. This is what we call a multi-messenger event.\"\"\"\n",
    "\n",
    "</question>\n",
    "\n"
   ]
  }
 ],
 "metadata": {
  "celltoolbar": "Tags",
  "kernelspec": {
   "display_name": "Python 3 (ipykernel)",
   "language": "python",
   "name": "python3"
  },
  "language_info": {
   "codemirror_mode": {
    "name": "ipython",
    "version": 3
   },
   "file_extension": ".py",
   "mimetype": "text/x-python",
   "name": "python",
   "nbconvert_exporter": "python",
   "pygments_lexer": "ipython3",
   "version": "3.9.9"
  },
  "latex_envs": {
   "LaTeX_envs_menu_present": true,
   "autoclose": false,
   "autocomplete": true,
   "bibliofile": "biblio.bib",
   "cite_by": "apalike",
   "current_citInitial": 1,
   "eqLabelWithNumbers": true,
   "eqNumInitial": 1,
   "hotkeys": {
    "equation": "Ctrl-E",
    "itemize": "Ctrl-I"
   },
   "labels_anchors": false,
   "latex_user_defs": false,
   "report_style_numbering": false,
   "user_envs_cfg": false
  }
 },
 "nbformat": 4,
 "nbformat_minor": 5
}
