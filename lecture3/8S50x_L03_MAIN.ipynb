{
 "cells": [
  {
   "cell_type": "markdown",
   "id": "facca34a",
   "metadata": {
    "tags": [
     "learner",
     "md",
     "learner_chopped"
    ]
   },
   "source": [
    "<hr style=\"height: 1px;\">\n",
    "<i>This notebook was authored by the 8.316 Course Team, Copyright 2023 MIT All Rights Reserved.</i>\n",
    "<hr style=\"height: 1px;\">\n",
    "<br>\n",
    "\n",
    "<h1>Lesson 3: Gravitational Waves</h1>\n"
   ]
  },
  {
   "cell_type": "markdown",
   "id": "0d7f1430",
   "metadata": {
    "tags": [
     "learner",
     "md",
     "learner_chopped"
    ]
   },
   "source": [
    "<a name='section_3_0'></a>\n",
    "<hr style=\"height: 1px;\">\n",
    "\n",
    "\n",
    "## <h2 style=\"border:1px; border-style:solid; padding: 0.25em; color: #FFFFFF; background-color: #90409C\">L3.0 Overview</h2>\n"
   ]
  },
  {
   "cell_type": "markdown",
   "id": "c4f476a6",
   "metadata": {
    "tags": [
     "learner",
     "md",
     "learner_chopped"
    ]
   },
   "source": [
    "<h3>Navigation</h3>\n",
    "\n",
    "<table style=\"width:100%\">\n",
    "    <tr>\n",
    "        <td style=\"text-align: left; vertical-align: top; font-size: 10pt;\"><a href=\"#section_3_1\">L3.1 Introduction to Gravitational Waves</a></td>\n",
    "        <td style=\"text-align: left; vertical-align: top; font-size: 10pt;\"><a href=\"#exercises_3_1\">L3.1 Exercises</a></td>\n",
    "    </tr>\n",
    "    <tr>\n",
    "        <td style=\"text-align: left; vertical-align: top; font-size: 10pt;\"><a href=\"#section_3_2\">L3.2 Identification of Gravitational Waves</a></td>\n",
    "        <td style=\"text-align: left; vertical-align: top; font-size: 10pt;\"><a href=\"#exercises_3_2\">L3.2 Exercises</a></td>\n",
    "    </tr>\n",
    "    <tr>\n",
    "        <td style=\"text-align: left; vertical-align: top; font-size: 10pt;\"><a href=\"#section_3_3\">L3.3 Time-Frequency Analysis of Gravitational Wave Data</a></td>\n",
    "        <td style=\"text-align: left; vertical-align: top; font-size: 10pt;\"><a href=\"#exercises_3_3\">L3.3 Exercises</a></td>\n",
    "    </tr>\n",
    "    <tr>\n",
    "        <td style=\"text-align: left; vertical-align: top; font-size: 10pt;\"><a href=\"#section_3_4\">L3.4 Signal-to-Noise Sensitivity</a></td>\n",
    "        <td style=\"text-align: left; vertical-align: top; font-size: 10pt;\"><a href=\"#exercises_3_4\">L3.4 Exercises</a></td>\n",
    "    </tr>\n",
    "    <tr>\n",
    "        <td style=\"text-align: left; vertical-align: top; font-size: 10pt;\"><a href=\"#section_3_5\">L3.5 Pinpointing Gravitational Wave Events</a></td>\n",
    "        <td style=\"text-align: left; vertical-align: top; font-size: 10pt;\"><a href=\"#exercises_3_5\">L3.5 Exercises</a></td>\n",
    "    </tr>\n",
    "</table>\n",
    "\n"
   ]
  },
  {
   "cell_type": "markdown",
   "id": "214cd4d2",
   "metadata": {
    "tags": [
     "learner",
     "catsoop_00",
     "md"
    ]
   },
   "source": [
    "<h3>Learning Objectives</h3>\n",
    "\n",
    "Within this Lesson, we will cover the following topics:\n",
    "\n",
    "- What are gravitational waves?\n",
    "- How are gravitational waves created?\n",
    "- What is the effect of gravitational waves?\n",
    "- How are gravitational waves detected?\n",
    "- Analyzing data as a function of frequency instead of time\n",
    "- Introduction to Fourier transforms\n",
    "- Sources of noise in GW data\n",
    "- How noise affects GW sensitivity\n",
    "- How GW signals are found in the presence of noise\n",
    "- More details of GW signal analysis\n",
    "- Current and future GW detectors"
   ]
  },
  {
   "cell_type": "markdown",
   "id": "192d4ecc",
   "metadata": {
    "tags": [
     "learner",
     "md",
     "learner_chopped"
    ]
   },
   "source": [
    "<h3>Importing Data (Colab Only)</h3>\n",
    "\n",
    "If you are in a Google Colab environment, run the cell below to import the data for this notebook. Otherwise, if you have downloaded the course repository, you do not have to run the cell below."
   ]
  },
  {
   "cell_type": "code",
   "execution_count": null,
   "id": "834bf87d",
   "metadata": {
    "tags": [
     "learner",
     "py",
     "learner_chopped"
    ]
   },
   "outputs": [],
   "source": [
    "#>>>RUN L3.0-runcell00\n",
    "\n",
    "#Importing data:\n",
    "\n",
    "!git init\n",
    "!git remote add -f origin https://github.com/mitx-8s50/nb_LEARNER/\n",
    "!git config core.sparseCheckout true\n",
    "!echo 'data/L03' >> .git/info/sparse-checkout\n",
    "!git pull origin main"
   ]
  },
  {
   "cell_type": "markdown",
   "id": "5defa176",
   "metadata": {
    "tags": [
     "learner",
     "md"
    ]
   },
   "source": [
    "<h3>Importing Libraries</h3>\n",
    "\n",
    "Before beginning, run the cell below to import the relevant libraries for this notebook. \n"
   ]
  },
  {
   "cell_type": "code",
   "execution_count": 1,
   "id": "e6d249c4",
   "metadata": {
    "tags": [
     "learner",
     "py",
     "learner_chopped"
    ]
   },
   "outputs": [],
   "source": [
    "#>>>RUN: L3.0-runcell01\n",
    "\n",
    "import numpy as np                    #https://numpy.org/doc/stable/\n",
    "from matplotlib import pyplot as plt  #https://matplotlib.org/stable/api/_as_gen/matplotlib.pyplot.html\n",
    "from scipy.fft import fft, fftfreq    #https://docs.scipy.org/doc/scipy/reference/fft.html\n",
    "                                      #https://docs.scipy.org/doc/scipy/reference/generated/scipy.fft.fftfreq.html"
   ]
  },
  {
   "cell_type": "markdown",
   "id": "dde379e5",
   "metadata": {
    "tags": [
     "learner",
     "md"
    ]
   },
   "source": [
    "<h3>Setting Default Figure Parameters</h3>\n",
    "\n",
    "The following code cell sets default values for figure parameters."
   ]
  },
  {
   "cell_type": "code",
   "execution_count": 2,
   "id": "a9da6c27",
   "metadata": {
    "tags": [
     "learner",
     "py",
     "learner_chopped"
    ]
   },
   "outputs": [],
   "source": [
    "#>>>RUN: L3.0-runcell02\n",
    "\n",
    "#set plot resolution\n",
    "%config InlineBackend.figure_format = 'retina'\n",
    "\n",
    "#set default figure parameters\n",
    "plt.rcParams['figure.figsize'] = (9,6)\n",
    "\n",
    "medium_size = 12\n",
    "large_size = 15\n",
    "\n",
    "plt.rc('font', size=medium_size)          # default text sizes\n",
    "plt.rc('xtick', labelsize=medium_size)    # xtick labels\n",
    "plt.rc('ytick', labelsize=medium_size)    # ytick labels\n",
    "plt.rc('legend', fontsize=medium_size)    # legend\n",
    "plt.rc('axes', titlesize=large_size)      # axes title\n",
    "plt.rc('axes', labelsize=large_size)      # x and y labels\n",
    "plt.rc('figure', titlesize=large_size)    # figure title"
   ]
  },
  {
   "cell_type": "markdown",
   "id": "e5fbc24e",
   "metadata": {
    "tags": [
     "learner",
     "md",
     "learner_chopped"
    ]
   },
   "source": [
    "<a name='section_3_1'></a>\n",
    "<hr style=\"height: 1px;\">\n",
    "\n",
    "## <h2 style=\"border:1px; border-style:solid; padding: 0.25em; color: #FFFFFF; background-color: #90409C\">L3.1 Introduction to Gravitational Waves</h2>  \n",
    "\n",
    "| [Top](#section_3_0) | [Previous Section](#section_3_0) | [Exercises](#exercises_3_1) | [Next Section](#section_3_2) |\n"
   ]
  },
  {
   "cell_type": "markdown",
   "id": "18251b49",
   "metadata": {
    "tags": [
     "learner",
     "md"
    ]
   },
   "source": [
    "<h3>Slides</h3>\n",
    "\n",
    "Run the code below to view the slides for this section, which are discussed in the related video. You can also open the slides in a separate window <a href=\"https://mitx-8s50.github.io/slides/L03/slides1.html\" target=\"_blank\">HERE</a>."
   ]
  },
  {
   "cell_type": "code",
   "execution_count": 3,
   "id": "10d72ea4",
   "metadata": {
    "scrolled": true,
    "tags": [
     "learner",
     "py",
     "learner_chopped"
    ]
   },
   "outputs": [
    {
     "data": {
      "text/html": [
       "\n",
       "        <iframe\n",
       "            width=\"975\"\n",
       "            height=\"550\"\n",
       "            src=\"https://mitx-8s50.github.io/slides/L03/slides1.html\"\n",
       "            frameborder=\"0\"\n",
       "            allowfullscreen\n",
       "            \n",
       "        ></iframe>\n",
       "        "
      ],
      "text/plain": [
       "<IPython.lib.display.IFrame at 0x7ff3ef11fc70>"
      ]
     },
     "execution_count": 3,
     "metadata": {},
     "output_type": "execute_result"
    }
   ],
   "source": [
    "#>>>RUN: L3.1-slides\n",
    "\n",
    "from IPython.display import IFrame\n",
    "IFrame(src='https://mitx-8s50.github.io/slides/L03/slides1.html', width=975, height=550)"
   ]
  },
  {
   "cell_type": "markdown",
   "id": "2e7e3cc9",
   "metadata": {
    "tags": [
     "md",
     "lect_01"
    ]
   },
   "source": [
    "<h3>Slides</h3>\n",
    "\n",
    "View the slides for this section below, which are discussed in the related video. You can also open the slides in a separate window <a href=\"https://mitx-8s50.github.io/slides/L03/slides1.html\" target=\"_blank\">HERE</a>.\n",
    "\n",
    "<p align=\"center\">\n",
    "<iframe src=\"https://mitx-8s50.github.io/slides/L03/slides1.html\" width=\"900\", height=\"550\" frameBorder=\"0\"/>\n",
    "</p>"
   ]
  },
  {
   "cell_type": "markdown",
   "id": "08c3fe59",
   "metadata": {
    "tags": [
     "learner",
     "md"
    ]
   },
   "source": [
    "<a name='exercises_3_1'></a>     \n",
    "\n",
    "| [Top](#section_3_0) | [Restart Section](#section_3_1) | [Next Section](#section_3_2) |\n"
   ]
  },
  {
   "cell_type": "markdown",
   "id": "8418d4fc",
   "metadata": {
    "tags": [
     "learner",
     "md",
     "learner_chopped"
    ]
   },
   "source": [
    "### <span style=\"border:3px; border-style:solid; padding: 0.15em; border-color: #90409C; color: #90409C;\">Ex-3.1.1 Sources of Gravitational Waves</span>\n",
    "\n",
    "Select from the following list any potential sources of gravitational waves?\n",
    "\n",
    "- binary black hole mergers\n",
    "- binary neutron star mergers\n",
    "- supernovae\n",
    "- cosmic energy bursts\n",
    "- primordial axions\n"
   ]
  },
  {
   "cell_type": "markdown",
   "id": "0a65ac00",
   "metadata": {
    "tags": [
     "solution",
     "md"
    ]
   },
   "source": [
    "<div style=\"border:1.5px; border-style:solid; padding: 0.5em; border-color: #90409C; color: #90409C;\">\n",
    "\n",
    "**SOLUTION:**\n",
    "\n",
    "<pre>\n",
    "'binary black hole mergers','binary neutron star mergers','supernovae','cosmic energy bursts','primordial axions'\n",
    "</pre>\n",
    "        \n",
    "**EXPLANATION:**\n",
    "    \n",
    "All of these are potential sources of gravitational waves. However, we have only observed gravitational waves from compact binary black hole mergers and binary neutron star mergers. Supernovae will produce enormous gravitational wave signatures and are something we hope to eventually see. There are many other sources of gravitational waves, nearly every astonomical object leaves a gravitational wave signature. One recent proposal is that we might be able to find dark matter with gravitational waves by looking for objects produced in the early universe during the big bang, like Primordial Axions. \n",
    "    \n",
    "</div>\n"
   ]
  },
  {
   "cell_type": "markdown",
   "id": "ead70661",
   "metadata": {
    "tags": [
     "learner",
     "md",
     "learner_chopped"
    ]
   },
   "source": [
    ">#### Follow-up 3.1.1a (ungraded)\n",
    ">   \n",
    ">Why have we only observed binary object mergers so far?"
   ]
  },
  {
   "cell_type": "markdown",
   "id": "0c4530c5",
   "metadata": {
    "tags": [
     "solution",
     "md"
    ]
   },
   "source": [
    "<div style=\"border:1.5px; border-style:solid; padding: 0.5em; border-color: #90409C; color: #90409C;\">\n",
    "\n",
    "**SOLUTION:**\n",
    "\n",
    "<pre>\n",
    "They leave a clear signature that we know how to model. \n",
    "</pre>\n",
    "        \n",
    "**EXPLANATION:**\n",
    "    \n",
    "Objects that rotate around each other yield an oscillatory signature. This signature is very distinct and something we have been able to model with current gravitational simulations. More complex objects, such as supernovae will take time and understanding to really observe. \n",
    "    \n",
    "</div>\n"
   ]
  },
  {
   "cell_type": "markdown",
   "id": "6a81e380",
   "metadata": {
    "tags": [
     "learner",
     "md",
     "learner_chopped"
    ]
   },
   "source": [
    "### <span style=\"border:3px; border-style:solid; padding: 0.15em; border-color: #90409C; color: #90409C;\">Ex-3.1.2 Ratio of Distances to Identical GW Sources</span>\n",
    "\n",
    "Assume two events that produce identical gravitational waves at their source occur at 500 MPc and 100 MPc away from Earth. What will be the ratio of the observed GW signal amplitudes of these events. Enter the ratio $GW_{500MPc}/GW_{100MPc}$ as a number."
   ]
  },
  {
   "cell_type": "markdown",
   "id": "6c762928",
   "metadata": {
    "tags": [
     "solution",
     "md"
    ]
   },
   "source": [
    "<div style=\"border:1.5px; border-style:solid; padding: 0.5em; border-color: #90409C; color: #90409C;\">\n",
    "\n",
    "**SOLUTION:**\n",
    "\n",
    "<pre>\n",
    "1/5\n",
    "</pre>\n",
    "        \n",
    "**EXPLANATION:**\n",
    "    \n",
    "Gravitational waves get weaker with distance like 1/r. Therefore a gravitational wave source that is 5 times farther away will be 1/5 weaker, if the sources are identical in nature.\n",
    "    \n",
    "</div>\n"
   ]
  },
  {
   "cell_type": "markdown",
   "id": "1e58c280",
   "metadata": {
    "tags": [
     "learner",
     "md",
     "learner_chopped"
    ]
   },
   "source": [
    "<a name='section_3_2'></a>\n",
    "<hr style=\"height: 1px;\">\n",
    "\n",
    "## <h2 style=\"border:1px; border-style:solid; padding: 0.25em; color: #FFFFFF; background-color: #90409C\">L3.2 Identification of Gravitational Waves</h2>  \n",
    "\n",
    "| [Top](#section_3_0) | [Previous Section](#section_3_1) | [Exercises](#exercises_3_2) | [Next Section](#section_3_3) |\n"
   ]
  },
  {
   "cell_type": "markdown",
   "id": "3d9196fe",
   "metadata": {
    "tags": [
     "learner",
     "md"
    ]
   },
   "source": [
    "<h3>Slides</h3>\n",
    "\n",
    "Run the code below to view the slides for this section, which are discussed in the related video. You can also open the slides in a separate window <a href=\"https://mitx-8s50.github.io/slides/L03/slides2.html\" target=\"_blank\">HERE</a>."
   ]
  },
  {
   "cell_type": "code",
   "execution_count": null,
   "id": "a1ebe696",
   "metadata": {
    "tags": [
     "learner",
     "py",
     "learner_chopped"
    ]
   },
   "outputs": [],
   "source": [
    "#>>>RUN: L3.2-slides\n",
    "\n",
    "from IPython.display import IFrame\n",
    "IFrame(src='https://mitx-8s50.github.io/slides/L03/slides2.html', width=975, height=550)"
   ]
  },
  {
   "cell_type": "markdown",
   "id": "2c193ce0",
   "metadata": {
    "tags": [
     "md",
     "lect_02"
    ]
   },
   "source": [
    "<h3>Slides</h3>\n",
    "\n",
    "View the slides for this section below, which are discussed in the related video. You can also open the slides in a separate window <a href=\"https://mitx-8s50.github.io/slides/L03/slides2.html\" target=\"_blank\">HERE</a>.\n",
    "\n",
    "<p align=\"center\">\n",
    "<iframe src=\"https://mitx-8s50.github.io/slides/L03/slides2.html\" width=\"900\", height=\"550\" frameBorder=\"0\"/>\n",
    "</p>"
   ]
  },
  {
   "cell_type": "markdown",
   "id": "6eb2409b",
   "metadata": {
    "tags": [
     "learner",
     "md",
     "learner_chopped"
    ]
   },
   "source": [
    "<a name='exercises_3_2'></a>     \n",
    "\n",
    "| [Top](#section_3_0) | [Restart Section](#section_3_2) | [Next Section](#section_3_3) |\n"
   ]
  },
  {
   "cell_type": "markdown",
   "id": "e544a038",
   "metadata": {
    "tags": [
     "learner",
     "md",
     "learner_chopped"
    ]
   },
   "source": [
    "### <span style=\"border:3px; border-style:solid; padding: 0.15em; border-color: #90409C; color: #90409C;\">Ex-3.2.1 Understanding the Length Scale of LIGO Measurements</span>\n",
    "\n",
    "Currently LIGO is able to measure displacements on the order of $\\Delta L \\approx 3 \\times 10^{-19}\\,\\mathrm{m}$. How does this compare to the established size of a proton? Specifically, what is the ratio $\\Delta L /D$, where D is the diameter of a proton.\n",
    "\n",
    "Enter your answer as a number with precision `5e-5`."
   ]
  },
  {
   "cell_type": "markdown",
   "id": "8c544f23",
   "metadata": {
    "tags": [
     "solution",
     "md"
    ]
   },
   "source": [
    "<div style=\"border:1.5px; border-style:solid; padding: 0.5em; border-color: #90409C; color: #90409C;\">\n",
    "        \n",
    "**EXPLANATION:**\n",
    "    \n",
    "A proton has a diameter $D \\approx 0.84 \\times 10^{-15}$, so the ratio in question is $\\Delta L /D \\approx 3.57 \\times 10^{-4}$.\n",
    "    \n",
    "</div>\n"
   ]
  },
  {
   "cell_type": "markdown",
   "id": "10e431f4",
   "metadata": {
    "tags": [
     "learner",
     "md",
     "learner_chopped"
    ]
   },
   "source": [
    "<a name='section_3_3'></a>\n",
    "<hr style=\"height: 1px;\">\n",
    "\n",
    "## <h2 style=\"border:1px; border-style:solid; padding: 0.25em; color: #FFFFFF; background-color: #90409C\">L3.3 Time-Frequency Analysis of Gravitational Wave Data</h2>  \n",
    "\n",
    "| [Top](#section_3_0) | [Previous Section](#section_3_2) | [Exercises](#exercises_3_3) | [Next Section](#section_3_4) |\n"
   ]
  },
  {
   "cell_type": "markdown",
   "id": "913bc65d",
   "metadata": {
    "tags": [
     "learner",
     "md"
    ]
   },
   "source": [
    "<h3>Video Note</h3>\n",
    "\n",
    "The audio files played in the video can be found in the related data directly for this notebook: data/L03\n",
    "\n",
    "Also here: https://github.com/mitx-8s50/nb_LEARNER/blob/main/data/L03"
   ]
  },
  {
   "cell_type": "markdown",
   "id": "4536c850",
   "metadata": {
    "tags": [
     "learner",
     "md"
    ]
   },
   "source": [
    "<h3>Slides</h3>\n",
    "\n",
    "Run the code below to view the slides for this section, which are discussed in the related video. You can also open the slides in a separate window <a href=\"https://mitx-8s50.github.io/slides/L03/slides3.html\" target=\"_blank\">HERE</a>."
   ]
  },
  {
   "cell_type": "code",
   "execution_count": null,
   "id": "d57d2134",
   "metadata": {
    "tags": [
     "learner",
     "py",
     "learner_chopped"
    ]
   },
   "outputs": [],
   "source": [
    "#>>>RUN: L3.3-slides\n",
    "\n",
    "from IPython.display import IFrame\n",
    "IFrame(src='https://mitx-8s50.github.io/slides/L03/slides3.html', width=975, height=550)"
   ]
  },
  {
   "cell_type": "markdown",
   "id": "f93887bf",
   "metadata": {
    "tags": [
     "md",
     "lect_03"
    ]
   },
   "source": [
    "<h3>Slides</h3>\n",
    "\n",
    "View the slides for this section below, which are discussed in the related video. You can also open the slides in a separate window <a href=\"https://mitx-8s50.github.io/slides/L03/slides3.html\" target=\"_blank\">HERE</a>.\n",
    "\n",
    "<p align=\"center\">\n",
    "<iframe src=\"https://mitx-8s50.github.io/slides/L03/slides3.html\" width=\"900\", height=\"550\" frameBorder=\"0\"/>\n",
    "</p>"
   ]
  },
  {
   "cell_type": "markdown",
   "id": "7f01898a",
   "metadata": {
    "tags": [
     "learner",
     "md",
     "learner_chopped"
    ]
   },
   "source": [
    "<a name='exercises_3_3'></a>     \n",
    "\n",
    "| [Top](#section_3_0) | [Restart Section](#section_3_3) | [Next Section](#section_3_4) |\n"
   ]
  },
  {
   "cell_type": "markdown",
   "id": "da18d527",
   "metadata": {
    "tags": [
     "learner",
     "md",
     "learner_chopped"
    ]
   },
   "source": [
    "### <span style=\"border:3px; border-style:solid; padding: 0.15em; border-color: #90409C; color: #90409C;\">Ex-3.3.1 Practice With Fourier Transforms I</span>\n",
    "\n",
    "Let's practice using Fourier transforms on some data! First, let's just generate a dataset with two frequencies, say 400 Hertz and 4000 Hertz, then add them together and plot the sum.  What does the combination of the two waves look like? \n",
    "\n",
    "- You see a big sine wave corresponding to the lower frequency, with higher frequency sine waves oscillations superimposed along it\n",
    "- The result does not look sinusoidal at all\n",
    "- You see just one sine wave\n",
    "- You see a beat pattern corresponding to the difference in the two frequencies\n",
    "   \n",
    "Use the starting code below to make these plots. You might want to take a look at the following resource to learn more about fft: https://docs.scipy.org/doc/scipy/tutorial/fft.html"
   ]
  },
  {
   "cell_type": "code",
   "execution_count": 1,
   "id": "7fbf3460",
   "metadata": {
    "scrolled": false,
    "tags": [
     "draft",
     "py",
     "learner_chopped"
    ]
   },
   "outputs": [
    {
     "data": {
      "image/png": "[encoded data removed]",
      "text/plain": [
       "<Figure size 640x480 with 1 Axes>"
      ]
     },
     "metadata": {},
     "output_type": "display_data"
    }
   ],
   "source": [
    "#>>>EXERCISE: L3.3.1\n",
    "# Use this cell for drafting your solution (if desired),\n",
    "# then enter your solution in the interactive problem online to be graded.\n",
    "\n",
    "import numpy as np\n",
    "from matplotlib import pyplot as plt\n",
    "\n",
    "# First we'll create some data. \n",
    "def generate_sine_wave(freq, sample_rate, duration):\n",
    "    x = np.linspace(0, duration, sample_rate * duration, endpoint=False)\n",
    "    frequencies = x * freq\n",
    "    # 2pi because np.sin takes radians\n",
    "    y = np.sin((2 * np.pi) * frequencies)\n",
    "    return x, y\n",
    "    \n",
    "# Mix two different sine waves \n",
    "SAMPLE_RATE = 45000  # Hertz\n",
    "DURATION = 5  # Seconds\n",
    "_, tone1 = generate_sine_wave(400, SAMPLE_RATE, DURATION)\n",
    "_, tone2 = generate_sine_wave(4000, SAMPLE_RATE, DURATION)\n",
    "\n",
    "mixed_tone = tone1 + tone2\n",
    "\n",
    "plt.plot(mixed_tone[:1000])\n",
    "plt.show()\n"
   ]
  },
  {
   "cell_type": "markdown",
   "id": "4bd19732",
   "metadata": {
    "tags": [
     "solution",
     "md"
    ]
   },
   "source": [
    "<div style=\"border:1.5px; border-style:solid; padding: 0.5em; border-color: #90409C; color: #90409C;\">\n",
    "\n",
    "**SOLUTION:**\n",
    "\n",
    "<pre>\n",
    "You see a big sine wave corresponding to the lower frequency, with higher frequency sine waves oscillations superimposed along it\n",
    "</pre>\n",
    "        \n",
    "**EXPLANATION:**\n",
    "    \n",
    "This is just a plot to get you started thinking about how datasets containing more than one wave look like. \n",
    "    \n",
    "</div>\n"
   ]
  },
  {
   "cell_type": "markdown",
   "id": "47f083fa",
   "metadata": {
    "tags": [
     "learner",
     "md",
     "learner_chopped"
    ]
   },
   "source": [
    "### <span style=\"border:3px; border-style:solid; padding: 0.15em; border-color: #90409C; color: #90409C;\">Ex-3.3.2 Practice With Fourier Transforms II</span>\n",
    "\n",
    "Now, run a Fourier transform on the mixed wave consisting of a 400 Hertz wave and a 4000 Hertz wave. Note the peaks in the Fourier spectrum. How does the transform change if you use two frequencies that are closer to each other? \n",
    "\n",
    "- The peaks in the Fourier spectrum get farther apart\n",
    "- The peaks in the Fourier spectrum get closer together\n",
    "- The Fourier spectrum does not change\n",
    "   \n",
    "Use the starting code below to make these plots. You might want to take a look at the following resource to learn more about fft: https://docs.scipy.org/doc/scipy/tutorial/fft.html\n",
    "\n",
    "Notice that in the case of combining two fairly close frequencies, the summed distribution does not look sinusoidal at all!"
   ]
  },
  {
   "cell_type": "code",
   "execution_count": 5,
   "id": "01d1a1ec",
   "metadata": {
    "tags": [
     "draft",
     "py",
     "learner_chopped"
    ]
   },
   "outputs": [
    {
     "data": {
      "image/png": "[encoded data removed]",
      "text/plain": [
       "<Figure size 640x480 with 1 Axes>"
      ]
     },
     "metadata": {},
     "output_type": "display_data"
    },
    {
     "data": {
      "image/png": "[encoded data removed]",
      "text/plain": [
       "<Figure size 640x480 with 1 Axes>"
      ]
     },
     "metadata": {},
     "output_type": "display_data"
    }
   ],
   "source": [
    "#>>>EXERCISE: L3.3.2\n",
    "# Use this cell for drafting your solution (if desired),\n",
    "# then enter your solution in the interactive problem online to be graded.\n",
    "\n",
    "import numpy as np\n",
    "from matplotlib import pyplot as plt\n",
    "from scipy.fft import fft, fftfreq\n",
    "\n",
    "# First we'll create some data. \n",
    "def generate_sine_wave(freq, sample_rate, duration):\n",
    "    x = np.linspace(0, duration, sample_rate * duration, endpoint=False)\n",
    "    frequencies = x * freq\n",
    "    # 2pi because np.sin takes radians\n",
    "    y = np.sin((2 * np.pi) * frequencies)\n",
    "    return x, y\n",
    "    \n",
    "# Mix two different sine waves \n",
    "SAMPLE_RATE = 45000  # Hertz\n",
    "DURATION = 5  # Seconds\n",
    "_, tone1 = generate_sine_wave(400, SAMPLE_RATE, DURATION)\n",
    "_, tone2 = generate_sine_wave(4000, SAMPLE_RATE, DURATION)\n",
    "\n",
    "mixed_tone = tone1 + tone2\n",
    "\n",
    "plt.plot(mixed_tone[:1000])\n",
    "plt.show()\n",
    "\n",
    "\n",
    "# Number of samples\n",
    "N = SAMPLE_RATE * DURATION\n",
    "\n",
    "# Perform Fourier transform\n",
    "yf = fft(mixed_tone)\n",
    "xf = fftfreq(N, 1/SAMPLE_RATE)\n",
    "plt.plot(xf, np.abs(yf))\n",
    "plt.xlim(0,4500)\n",
    "plt.show()\n"
   ]
  },
  {
   "cell_type": "markdown",
   "id": "4c685b79",
   "metadata": {
    "tags": [
     "solution",
     "md"
    ]
   },
   "source": [
    "<div style=\"border:1.5px; border-style:solid; padding: 0.5em; border-color: #90409C; color: #90409C;\">\n",
    "\n",
    "**SOLUTION:**\n",
    "\n",
    "<pre>\n",
    "\n",
    "The peaks get closer.\n",
    "\n",
    "</pre>\n",
    "        \n",
    "**EXPLANATION:**\n",
    "    \n",
    "In Fourier space, the sum of two sine waves corresponds to delta functions at their frequency of generation, so the Fourier transform just gives us a peak at the frequency of each sine wave. By construction, the Fourier transform also gives a peak at the negative values of the same frequencies.\n",
    "\n",
    "    \n",
    "</div>\n"
   ]
  },
  {
   "cell_type": "markdown",
   "id": "165c43f3",
   "metadata": {
    "tags": [
     "learner",
     "md",
     "learner_chopped"
    ]
   },
   "source": [
    ">#### Follow-up 3.3.2a (ungraded)\n",
    ">   \n",
    ">What is the integral of the Fourier spectrum? Why are we taking the absolute values when we plot the Fourier distribution?"
   ]
  },
  {
   "cell_type": "markdown",
   "id": "73327ad1",
   "metadata": {
    "tags": [
     "solution",
     "md"
    ]
   },
   "source": [
    "<div style=\"border:1.5px; border-style:solid; padding: 0.5em; border-color: #90409C; color: #90409C;\">\n",
    "\n",
    "**SOLUTION:**\n",
    "    \n",
    "<pre>\n",
    "</pre>\n",
    "        \n",
    "**EXPLANATION:**\n",
    "    \n",
    "The integral of the spectrum is the number of samples times 2 for the sum of two waves with amplitudes of 1. More generally, the integral is $N_{samples} \\times \\sum_{i}|A_{i}|$ where $A_{i}$ are the amplitudes of the waves. \n",
    "\n",
    "The output of the Fourier transform contains both a real component and an imaginary component, we take the absolute value to get the magnitude. \n",
    "    \n",
    "</div>\n"
   ]
  },
  {
   "cell_type": "markdown",
   "id": "d2ae4e96",
   "metadata": {
    "tags": [
     "learner",
     "md",
     "learner_chopped"
    ]
   },
   "source": [
    "<a name='section_3_4'></a>\n",
    "<hr style=\"height: 1px;\">\n",
    "\n",
    "## <h2 style=\"border:1px; border-style:solid; padding: 0.25em; color: #FFFFFF; background-color: #90409C\">L3.4 Signal-to-Noise Sensitivity</h2>  \n",
    "\n",
    "| [Top](#section_3_0) | [Previous Section](#section_3_3) | [Exercises](#exercises_3_4) | [Next Section](#section_3_5) |\n"
   ]
  },
  {
   "cell_type": "markdown",
   "id": "2848d13a",
   "metadata": {
    "tags": [
     "learner",
     "md"
    ]
   },
   "source": [
    "<h3>Slides</h3>\n",
    "\n",
    "Run the code below to view the slides for this section, which are discussed in the related video. You can also open the slides in a separate window <a href=\"https://mitx-8s50.github.io/slides/L03/slides4.html\" target=\"_blank\">HERE</a>."
   ]
  },
  {
   "cell_type": "code",
   "execution_count": null,
   "id": "d77d444a",
   "metadata": {
    "tags": [
     "learner",
     "py",
     "learner_chopped"
    ]
   },
   "outputs": [],
   "source": [
    "#>>>RUN: L3.4-slides\n",
    "\n",
    "from IPython.display import IFrame\n",
    "IFrame(src='https://mitx-8s50.github.io/slides/L03/slides4.html', width=975, height=550)"
   ]
  },
  {
   "cell_type": "markdown",
   "id": "39bf1d96",
   "metadata": {
    "tags": [
     "md",
     "lect_04"
    ]
   },
   "source": [
    "<h3>Slides</h3>\n",
    "\n",
    "View the slides for this section below, which are discussed in the related video. You can also open the slides in a separate window <a href=\"https://mitx-8s50.github.io/slides/L03/slides4.html\" target=\"_blank\">HERE</a>.\n",
    "\n",
    "<p align=\"center\">\n",
    "<iframe src=\"https://mitx-8s50.github.io/slides/L03/slides4.html\" width=\"900\", height=\"550\" frameBorder=\"0\"/>\n",
    "</p>"
   ]
  },
  {
   "cell_type": "markdown",
   "id": "c6dea8e2",
   "metadata": {
    "tags": [
     "learner",
     "md",
     "learner_chopped"
    ]
   },
   "source": [
    "<a name='exercises_3_4'></a>     \n",
    "\n",
    "| [Top](#section_3_0) | [Restart Section](#section_3_4) | [Next Section](#section_3_5) |\n"
   ]
  },
  {
   "cell_type": "markdown",
   "id": "5e1049d2",
   "metadata": {
    "tags": [
     "learner",
     "md",
     "learner_chopped"
    ]
   },
   "source": [
    "### <span style=\"border:3px; border-style:solid; padding: 0.15em; border-color: #90409C; color: #90409C;\">Ex-3.4.1 Sources of High Frequency Noise</span>\n",
    "\n",
    "What is a source of very high-frequency noise in gravitational wave detection? Choose the best answer from the following list.\n",
    "\n",
    "- shot noise\n",
    "- seismic noise\n",
    "- cars and trucks\n",
    "- electronic interference\n"
   ]
  },
  {
   "cell_type": "markdown",
   "id": "441217ef",
   "metadata": {
    "tags": [
     "solution",
     "md"
    ]
   },
   "source": [
    "<div style=\"border:1.5px; border-style:solid; padding: 0.5em; border-color: #90409C; color: #90409C;\">\n",
    "\n",
    "**SOLUTION:**\n",
    "\n",
    "<pre>\n",
    "shot noise\n",
    "</pre>\n",
    "        \n",
    "**EXPLANATION:**\n",
    "    \n",
    "Shot noise, otherwise referred to as \"Quantum Noise\" is the noise coming from the laser beam. It can be reduced by increasing the intensity of the laser or by going into a squeezed state to reduce the overall position uncertainty, which allows for lower noise at high frequency. \n",
    "    \n",
    "</div>\n"
   ]
  },
  {
   "cell_type": "markdown",
   "id": "f869d7f4",
   "metadata": {
    "tags": [
     "learner",
     "md",
     "learner_chopped"
    ]
   },
   "source": [
    "### <span style=\"border:3px; border-style:solid; padding: 0.15em; border-color: #90409C; color: #90409C;\">Exercise 3.4.2 Sources of Low Frequency Noise</span>\n",
    "\n",
    "What is a source of very low-frequency noise in gravitational wave detection? Again, choose the best answer from the following list.\n",
    "\n",
    "- shot noise\n",
    "- seismic noise\n",
    "- cars and trucks\n",
    "- electronic interference\n"
   ]
  },
  {
   "cell_type": "markdown",
   "id": "7e09bec8",
   "metadata": {
    "tags": [
     "solution",
     "md"
    ]
   },
   "source": [
    "<div style=\"border:1.5px; border-style:solid; padding: 0.5em; border-color: #90409C; color: #90409C;\">\n",
    "\n",
    "**SOLUTION:**\n",
    "\n",
    "<pre>\n",
    "\n",
    "sesimic noise\n",
    "\n",
    "</pre>\n",
    "        \n",
    "**EXPLANATION:**\n",
    "    \n",
    "Here the issue is to get to the lowest frequency of object. Cars and trucks are pretty low frequency, but seismic noise can be even lower. Furthermore, Seismic noise tends to dominate the low frequency noise limit. This is something we could potentially improve up and make a better experiment with. \n",
    "    \n",
    "</div>\n"
   ]
  },
  {
   "cell_type": "markdown",
   "id": "db7b832a",
   "metadata": {
    "tags": [
     "learner",
     "md",
     "learner_chopped"
    ]
   },
   "source": [
    "<a name='section_3_5'></a>\n",
    "<hr style=\"height: 1px;\">\n",
    "\n",
    "## <h2 style=\"border:1px; border-style:solid; padding: 0.25em; color: #FFFFFF; background-color: #90409C\">L3.5 Pinpointing Gravitational Wave Events</h2>     \n",
    "\n",
    "| [Top](#section_3_0) | [Previous Section](#section_3_4) | [Exercises](#exercises_3_5) |\n"
   ]
  },
  {
   "cell_type": "markdown",
   "id": "366204b0",
   "metadata": {
    "tags": [
     "learner",
     "md",
     "8S50x"
    ]
   },
   "source": [
    "*The material in this section is discussed in the video **<a href=\"https://courses.mitxonline.mit.edu/learn/course/course-v1:MITxT+8.S50.1x+3T2022/block-v1:MITxT+8.S50.1x+3T2022+type@sequential+block@seq_LS3/block-v1:MITxT+8.S50.1x+3T2022+type@vertical+block@vert_LS3_vid5\" target=\"_blank\">HERE</a>.** You are encouraged to watch that video and use this notebook concurrently.*"
   ]
  },
  {
   "cell_type": "markdown",
   "id": "d09197c9",
   "metadata": {
    "tags": [
     "learner",
     "md"
    ]
   },
   "source": [
    "<h3>Slides</h3>\n",
    "\n",
    "Run the code below to view the slides for this section, which are discussed in the related video. You can also open the slides in a separate window <a href=\"https://mitx-8s50.github.io/slides/L03/slides5.html\" target=\"_blank\">HERE</a>."
   ]
  },
  {
   "cell_type": "code",
   "execution_count": null,
   "id": "b4c25c43",
   "metadata": {
    "tags": [
     "learner",
     "py",
     "learner_chopped"
    ]
   },
   "outputs": [],
   "source": [
    "#>>>RUN: L3.5-slides\n",
    "\n",
    "from IPython.display import IFrame\n",
    "IFrame(src='https://mitx-8s50.github.io/slides/L03/slides5.html', width=975, height=550)"
   ]
  },
  {
   "cell_type": "markdown",
   "id": "2de30273",
   "metadata": {
    "tags": [
     "md",
     "lect_05"
    ]
   },
   "source": [
    "<h3>Slides</h3>\n",
    "\n",
    "View the slides for this section below, which are discussed in the related video. You can also open the slides in a separate window <a href=\"https://mitx-8s50.github.io/slides/L03/slides5.html\" target=\"_blank\">HERE</a>.\n",
    "\n",
    "<p align=\"center\">\n",
    "<iframe src=\"https://mitx-8s50.github.io/slides/L03/slides5.html\" width=\"900\", height=\"550\" frameBorder=\"0\"/>\n",
    "</p>"
   ]
  },
  {
   "cell_type": "markdown",
   "id": "b7e077eb",
   "metadata": {
    "tags": [
     "learner",
     "md",
     "learner_chopped"
    ]
   },
   "source": [
    "<a name='exercises_3_5'></a>   \n",
    "\n",
    "| [Top](#section_3_0) | [Restart Section](#section_3_5) |\n"
   ]
  },
  {
   "cell_type": "markdown",
   "id": "7ac82034",
   "metadata": {
    "tags": [
     "learner",
     "md",
     "learner_chopped"
    ]
   },
   "source": [
    "### <span style=\"border:3px; border-style:solid; padding: 0.15em; border-color: #90409C; color: #90409C;\">Ex-3.5.1 Pinpointing GW Sources</span>\n",
    "\n",
    "How many detectors (minimum) are needed to pinpoint a source in the sky? Enter your answer as a number.\n"
   ]
  },
  {
   "cell_type": "markdown",
   "id": "86074af1",
   "metadata": {
    "tags": [
     "solution",
     "md"
    ]
   },
   "source": [
    "<div style=\"border:1.5px; border-style:solid; padding: 0.5em; border-color: #90409C; color: #90409C;\">\n",
    "\n",
    "**SOLUTION:**\n",
    "\n",
    "<pre>\n",
    "2\n",
    "</pre>\n",
    "        \n",
    "**EXPLANATION:**\n",
    "    \n",
    "Two detectors give us a vector that we can point to in the sky. Imagine a wave hitting two points on earth at two different times. More and more detectors will help us narrow down in the sky where the source is!\n",
    "    \n",
    "</div>\n"
   ]
  },
  {
   "cell_type": "markdown",
   "id": "af30efa0",
   "metadata": {
    "tags": [
     "learner",
     "md",
     "learner_chopped"
    ]
   },
   "source": [
    "### <span style=\"border:3px; border-style:solid; padding: 0.15em; border-color: #90409C; color: #90409C;\">Ex-3.5.2 Towards Precision Detection</span>\n",
    "\n",
    "What is the *most precise* way to pinpoint the star system or region in which a GW event occurred?\n",
    "\n",
    "- Upgrading existing GW detectors\n",
    "- Adding more GW detectors\n",
    "- Detecting a multi-messenger GW event using an optical telescope\n",
    "- Detecting a multi-messenger GW event using a radio telescope\n"
   ]
  },
  {
   "cell_type": "markdown",
   "id": "8b0373e0",
   "metadata": {
    "tags": [
     "solution",
     "md"
    ]
   },
   "source": [
    "<div style=\"border:1.5px; border-style:solid; padding: 0.5em; border-color: #90409C; color: #90409C;\">\n",
    "\n",
    "**SOLUTION:**\n",
    "\n",
    "<pre>\n",
    "\n",
    "Detecting a multi-messenger GW event using an optical telescope\n",
    "\n",
    "</pre>\n",
    "        \n",
    "**EXPLANATION:**\n",
    "    \n",
    "Even if we have many LIGO detectors, our position resolution will never be great. However, telescopes have super precise position resolution. Unfortunately, we need to have an optical and GW event occurring simultaneously for this to be possible. This is what we call a multi-messenger event. \n",
    "    \n",
    "</div>\n"
   ]
  },
  {
   "cell_type": "markdown",
   "id": "227a2d93",
   "metadata": {
    "tags": [
     "learner",
     "md",
     "learner_chopped"
    ]
   },
   "source": [
    "<a name='section_3_6'></a>\n",
    "<hr style=\"height: 1px;\">\n",
    "\n",
    "## <h2 style=\"border:1px; border-style:solid; padding: 0.25em; color: #FFFFFF; background-color: #90409C\">L3.6 An Example: Hubble Constant</h2>  \n",
    "\n",
    "| [Top](#section_3_0) | [Previous Section](#section_3_5) | [Exercises](#exercises_3_6) | [Next Section](#section_4_7) |\n"
   ]
  },
  {
   "cell_type": "markdown",
   "id": "e4bc1ab3",
   "metadata": {
    "tags": [
     "learner",
     "md"
    ]
   },
   "source": [
    "<h3>Slides</h3>\n",
    "\n",
    "Run the code below to view the slides for this section, which are discussed in the related video. You can also open the slides in a separate window <a href=\"https://mitx-8s50.github.io/slides/L04/slides_L04_01.html\" target=\"_blank\">HERE</a>."
   ]
  },
  {
   "cell_type": "code",
   "execution_count": null,
   "id": "3c82bf9d",
   "metadata": {
    "tags": [
     "learner",
     "py",
     "learner_chopped"
    ]
   },
   "outputs": [],
   "source": [
    "#>>>RUN: L4.1-slides\n",
    "\n",
    "from IPython.display import IFrame\n",
    "IFrame(src='https://mitx-8s50.github.io/slides/L04/slides_L04_01.html', width=975, height=550)"
   ]
  },
  {
   "cell_type": "markdown",
   "id": "036fffea",
   "metadata": {
    "tags": [
     "md",
     "lect_01"
    ]
   },
   "source": [
    "<h3>Slides</h3>\n",
    "\n",
    "View the slides for this section below, which are discussed in the related video. You can also open the slides in a separate window <a href=\"https://mitx-8s50.github.io/slides/L04/slides_L04_01.html\" target=\"_blank\">HERE</a>.\n",
    "\n",
    "<p align=\"center\">\n",
    "<iframe src=\"https://mitx-8s50.github.io/slides/L04/slides_L04_01.html\" width=\"900\", height=\"550\" frameBorder=\"0\"/>\n",
    "</p>"
   ]
  },
  {
   "cell_type": "markdown",
   "id": "434424cc",
   "metadata": {
    "tags": [
     "learner",
     "md",
     "learner_chopped"
    ]
   },
   "source": [
    "<a name='exercises_4_1'></a>     \n",
    "\n",
    "| [Top](#section_4_0) | [Restart Section](#section_4_1) | [Next Section](#section_4_2) |\n"
   ]
  },
  {
   "cell_type": "markdown",
   "id": "6b885083",
   "metadata": {
    "tags": [
     "learner",
     "md",
     "learner_chopped"
    ]
   },
   "source": [
    "### <span style=\"border:3px; border-style:solid; padding: 0.15em; border-color: #90409C; color: #90409C;\">Ex-3.6.1 Expansion and Recessional Velocity</span>\n",
    "\n",
    "True or False: If the universe is expanding, the apparent recessional velocity of galaxies further away will be larger.\n"
   ]
  },
  {
   "cell_type": "markdown",
   "id": "71626b62",
   "metadata": {
    "tags": [
     "solution",
     "md"
    ]
   },
   "source": [
    "<div style=\"border:1.5px; border-style:solid; padding: 0.5em; border-color: #90409C; color: #90409C;\">\n",
    "\n",
    "**SOLUTION:**\n",
    "\n",
    "True\n",
    "\n",
    "        \n",
    "**EXPLANATION:**\n",
    "        \n",
    "Even if the recessional velocity of near and far galaxies may stay the same in their local frame, their observed recessional velocity will be different. Due to the expansion of the universe, space is also stretching, leading to galaxies further away having a larger apparent recessional velocity due to this expansion of space.\n",
    "\n",
    "    \n",
    "</div>\n"
   ]
  },
  {
   "cell_type": "markdown",
   "id": "497446ea",
   "metadata": {
    "tags": [
     "learner",
     "md",
     "learner_chopped"
    ]
   },
   "source": [
    "<a name='section_3_7'></a>\n",
    "<hr style=\"height: 1px;\">\n",
    "\n",
    "## <h2 style=\"border:1px; border-style:solid; padding: 0.25em; color: #FFFFFF; background-color: #90409C\">L3.7 Derivation of Linear Regression</h2>  \n",
    "\n",
    "| [Top](#section_4_0) | [Previous Section](#section_3_6) | [Exercises](#exercises_3_7) | [Next Section](#section_3_8) |\n"
   ]
  },
  {
   "cell_type": "markdown",
   "id": "69e8b527",
   "metadata": {
    "tags": [
     "learner",
     "md",
     "lect_02"
    ]
   },
   "source": [
    "<h3>Supernova Data</h3>\n",
    "\n",
    "For this class, we will use public data provided by the supernova galactic survey. This gives a list of supernovae along with their observed distances (with uncertainties) and their redshifts. These data are obtained through galactic observations of supernovae, with the line shifts indicating their respective redshift.\n",
    "\n",
    "**Data Source**\n",
    "\n",
    "We have included the data as a `.txt` file in the git repository. If using Colab, you will have downloaded the data in the initial steps of this Lesson.\n",
    "\n",
    "The data are from https://supernova.lbl.gov/Union/. We have used the following file under \"Cosmology Tables:\"\n",
    "\n",
    "- Union2.1 Compilation Magnitude vs. Redshift Table.\n",
    "\n",
    "This table stores the name, redshift, distance modulus, and distance modulus error for a collection of supernovae. Feel free to also look around the rest of the website and see what people have done with the data!\n",
    "\n",
    "\n",
    "**About the Data**\n",
    "\n",
    "When loading the data, we need to know that the data is stored in terms of the distance modulus, $\\mu$ defined <a href=\"https://en.wikipedia.org/wiki/Distance_modulus\" target=\"_blank\">here</a>. We can write this as \n",
    "\n",
    "$$\n",
    "\\begin{equation}\n",
    "d=10^{\\frac{\\mu}{5} + 1}\n",
    "\\end{equation}\n",
    "$$\n",
    "\n",
    "Furthermore, the uncertainty $\\sigma_{\\mu}$ is also given in terms of the distance modulus. Given our relationship between the distance modulus and the distance, we can get the uncertainty in distance:\n",
    "\n",
    "$$\n",
    "\\begin{eqnarray}\n",
    "\\sigma_{d} & = &  \\frac{d}{d\\mu}d(\\mu) \\cdot \\sigma_{\\mu} \\\\\n",
    "           & = &  \\frac{\\log(10)}{5} 10^{\\frac{\\mu}{5} + 1}   \\sigma_{\\mu}\n",
    "\\end{eqnarray}\n",
    "$$\n",
    "\n",
    "With that in mind, let's go ahead and process the data. "
   ]
  },
  {
   "cell_type": "code",
   "execution_count": 8,
   "id": "befc2f9a",
   "metadata": {
    "scrolled": true,
    "tags": [
     "learner",
     "py",
     "lect_02",
     "learner_chopped"
    ]
   },
   "outputs": [
    {
     "data": {
      "image/png": "[encoded data removed]",
      "text/plain": [
       "<Figure size 640x480 with 1 Axes>"
      ]
     },
     "metadata": {},
     "output_type": "display_data"
    }
   ],
   "source": [
    "#>>>RUN: L4.2-runcell01\n",
    "\n",
    "import math as math\n",
    "import matplotlib.pyplot as plt\n",
    "import numpy as np\n",
    "import csv\n",
    "\n",
    "#Today we are going to start with astro data from here : \n",
    "#http://supernova.lbl.gov/Union/\n",
    "#Let's load the data\n",
    "\n",
    "label='data/sn_z_mu_dmu_plow_union2.1.txt'\n",
    "#label='sn_z_mu_dmu_plow_union2.1.txt'\n",
    "\n",
    "\n",
    "#Table stores name, redshift, distance modulus, distance modulus error\n",
    "#Let's convert from distance modulus to distance\n",
    "#See here https://en.wikipedia.org/wiki/Distance_modulus\n",
    "def distanceconv(iMu):\n",
    "    power=iMu/5+1\n",
    "    return 10**power\n",
    "\n",
    "# and the same for uncertainty in distance modulus to uncertainty in distance\n",
    "def distanceconverr(iMu,iMuErr):\n",
    "    power=iMu/5+1\n",
    "    const=np.log(10)/5.\n",
    "    return const*(10**power)*iMuErr\n",
    "\n",
    "redshift=[]\n",
    "distance=[]\n",
    "distance_err=[]\n",
    "# read in the data\n",
    "with open(label,'r') as csvfile:\n",
    "    plots = csv.reader(csvfile, delimiter='\\t')\n",
    "    # name, redshift, distance modulus, distance modulus uncertainty\n",
    "    for row in plots:\n",
    "        redshift.append(float(row[1]))\n",
    "        distance.append(distanceconv(float(row[2])))\n",
    "        distance_err.append(distanceconverr(float(row[2]),float(row[3])))\n",
    "\n",
    "plt.xlabel('redshift(z)', fontsize=15) #Label x\n",
    "plt.ylabel('distances(parsec)', fontsize=15)#Label y\n",
    "# plot with errorbars\n",
    "plt.errorbar(redshift,distance,yerr=distance_err,marker='.',linestyle = 'None', color = 'black')\n",
    "plt.show()"
   ]
  },
  {
   "cell_type": "markdown",
   "id": "d9e7d136",
   "metadata": {
    "tags": [
     "learner",
     "md",
     "lect_02"
    ]
   },
   "source": [
    "This plot has an interesting shape. Instead of looking at the whole plot, we can zoom in on a specific region, namely the area with small redshifts: $z \\lt 0.1$"
   ]
  },
  {
   "cell_type": "code",
   "execution_count": 4,
   "id": "c882c6b3",
   "metadata": {
    "scrolled": true,
    "tags": [
     "learner",
     "py",
     "lect_02",
     "learner_chopped"
    ]
   },
   "outputs": [
    {
     "data": {
      "image/png": "[encoded data removed]",
      "text/plain": [
       "<Figure size 432x288 with 1 Axes>"
      ]
     },
     "metadata": {
      "needs_background": "light"
     },
     "output_type": "display_data"
    }
   ],
   "source": [
    "#>>>RUN: L4.2-runcell02\n",
    "\n",
    "#Now let's zoom in on the small redshift data.\n",
    "def load(iLabel,iZMax):\n",
    "    # loads data from file iLabel with redshift below iZMax:\n",
    "    redshift=[]\n",
    "    distance=[]\n",
    "    distance_err=[]\n",
    "    with open(label,'r') as csvfile:\n",
    "        plots = csv.reader(csvfile, delimiter='\\t')\n",
    "        for row in plots:\n",
    "            if float(row[1]) > iZMax:\n",
    "                continue\n",
    "            redshift.append(float(row[1]))\n",
    "            distance.append(distanceconv(float(row[2])))\n",
    "            distance_err.append(distanceconverr(float(row[2]),float(row[3])))\n",
    "    return np.array(redshift), np.array(distance), np.array(distance_err)\n",
    "\n",
    "redshift,distance,distance_err = load(label,0.1)\n",
    "plt.xlabel('redshift(z)', fontsize=15) #Label x\n",
    "plt.ylabel('distances(parsec)', fontsize=15)#Label y\n",
    "plt.errorbar(redshift,distance,yerr=distance_err,marker='.',linestyle = 'None', color = 'black')\n",
    "plt.show()"
   ]
  },
  {
   "cell_type": "markdown",
   "id": "528d8bf1",
   "metadata": {
    "tags": [
     "learner",
     "md",
     "lect_02"
    ]
   },
   "source": [
    "<h3>Linear (Least-Squares) Regression</h3>\n",
    "\n",
    "The data above has what looks like a linear trend. So, we try fitting a linear model; that is, something of form\n",
    "\n",
    "$$\n",
    "\\begin{equation}\n",
    "y = Ax + b\n",
    "\\end{equation}\n",
    "$$\n",
    "\n",
    "In this case, $x$ is the redshift observed, and $y$ is the distance observed. The goal here is to extract the parameters $A$ and $b$ that make the model's output prediction match those of the data. We can do this analytically, with a somewhat involved derivation.\n",
    "\n",
    "We start by defining $\\hat{y}$, which is the model's prediction of $y$ based on $x$. Our data is a set of $x$ and $y$ values that we'll call $x_i$ and $y_i$. For each $x_i$, we'll get the corresponding prediction $\\hat{y}_i$ from the model:\n",
    "\n",
    "$$\n",
    "\\begin{equation}\n",
    "\\hat{y}_{i} = Ax_{i} + b\n",
    "\\end{equation}\n",
    "$$\n",
    "\n",
    "where now we vary $A$ and $b$ to make the model fit. As mentioned earlier, we need to define an objective—some function to measure error—then find parameters to minimize it.\n",
    "\n",
    "What do we use for error? There are many possibilities. A common one is the square error: we take the difference between each predicted distance $\\hat{y}_i$ and the corresponding observed distance $y_i$, and square it. Then we add those up over all our data points. We'll call this metric $Q$:\n",
    "\n",
    "$$\n",
    "\\begin{eqnarray} \n",
    "Q & = & \\sum_{i=1}^{N}\\left(y_{i}-\\hat{y}_{i}\\right)^2 \\\\\n",
    "Q & = & \\sum_{i=1}^{N}\\left(y_{i}-Ax_{i}-b\\right)^2 \\\\\n",
    "\\end{eqnarray}\n",
    "$$\n",
    "\n",
    "where for the second line we've replaced $\\hat{y}$ with the parameterization in our model. By the way, minimizing this particular type of $Q$ is what we call \"least-squares\" regression.\n",
    "\n",
    "Now, the minimization step. We can take partial derivatives with respect to $A$ and to $b$ and set each to zero, to find extrema.\n",
    "\n",
    "$$\n",
    "\\begin{eqnarray} \n",
    "\\frac{\\partial Q}{\\partial A} & = & \\sum_{i=1}^{N} -2 x_{i} \\left(y_{i}-Ax_{i}-b\\right) \\\\\n",
    "              & = & \\sum_{i=1}^{N} -2 \\left(x_{i} y_{i}-Ax^{2}_{i}-b x_{i}\\right) \\\\\n",
    "              & = & 0\n",
    "\\end{eqnarray}          \n",
    "$$\n",
    "\n",
    "and for $b$ we have, noting that the average value of $x$ is $\\bar{x}=\\frac{1}{N} \\sum_{i=1}^{N} x_{i}$ (and similar for $\\bar{y}$), gives us\n",
    "\n",
    "$$\n",
    "\\begin{eqnarray} \n",
    "\\frac{\\partial Q}{\\partial b} & = & \\sum_{i=1}^{N} -2  \\left(y_{i}-Ax_{i}-b\\right) \\\\\n",
    "              & = & 2Nb + 2A\\sum_{i=1}^{N}x_{i}-2\\sum_{i=1}^{N}y_{i} \\\\\n",
    "              & = & 0 \\\\\n",
    "{\\rm Rearranging,} \\\\\n",
    "           b  & = & \\frac{1}{N} \\sum_{i=1}^{N}y_{i} - \\frac{A}{N} \\sum_{i=1}^{N}x_{i} \\\\\n",
    "              & = & \\bar{y} - A\\bar{x}      \n",
    "\\end{eqnarray}          \n",
    "$$\n",
    "\n",
    "Since we have the data, we can easily calculate $\\bar{x}$ and $\\bar{y}$ and we have derived a formula for the optimal $b$ in terms of these two averages. (*It's good to keep in mind that the optimal $A$ and $b$ that we find here are only optimal in the sense that they minimize our choice of function $Q$, giving the least-squares fit. If we had a different measure of error, our results might be different.*)\n",
    "\n",
    "\n",
    "\n",
    "Now, we can go back and solve for $A$, by substituting in our optimal $b$. This gives us\n",
    "\n",
    "$$\n",
    "\\begin{eqnarray} \n",
    "\\frac{dQ}{dA} & = & \\sum_{i=1}^{N} -2 \\left(x_{i} y_{i}-Ax^{2}_{i}-\\left(\\bar{y} - A\\bar{x}\\right) x_{i}\\right) \\\\\n",
    "              & = & \\sum_{i=1}^{N} -2 \\left(x_{i} y_{i}-x_{i}\\bar{y}-Ax^{2}_{i}+ A\\bar{x}x_{i}\\right) \\\\                           & = & -2 \\sum_{i=1}^{N} x_{i}\\left( y_{i}-\\bar{y}\\right)+2A\\sum_{i=1}^{N} x_{i}\\left(x_{i}-\\bar{x}\\right) \\\\\n",
    "              & = & 0 \\\\\n",
    "{\\rm Solving} \\\\\n",
    "A & = & \\frac{\\sum_{i=1}^{N} x_{i}\\left( y_{i}-\\bar{y}\\right)}{\\sum_{i=1}^{N} x_{i}\\left(x_{i}-\\bar{x}\\right)} \\\\\n",
    "  & = & \\frac{\\sum_{i=1}^{N} x_{i}\\left( y_{i}-\\bar{y}\\right) +\\sum_{i=1}^{N}\\left(\\bar{x}\\bar{y}-y_{i}\\bar{x}\\right)}      \n",
    "  {\\sum_{i=1}^{N} x_{i}\\left(x_{i}-\\bar{x}\\right) + \\sum_{i=1}^{N}\\left(\\bar{x}^2-x_{i}\\bar{x}\\right)} \\\\\n",
    "  & = & \\frac{\\sum_{i=1}^{N} \\left( x_{i} y_{i}-x_{i}\\bar{y}+\\bar{x}\\bar{y}-y_{i}\\bar{x}\\right)}      \n",
    "  {\\sum_{i=1}^{N} \\left(x^2_{i}-x_{i}\\bar{x} + \\bar{x}^2-x_{i}\\bar{x}\\right)} \\\\\n",
    "  & = & \\frac{\\frac{1}{N}\\sum_{i=1}^{N} \\left(x_{i} - \\bar{x} \\right) \\left(y_{i}-\\bar{y}\\right)}      \n",
    "             {\\frac{1}{N}\\sum_{i=1}^{N} \\left(x_{i}-\\bar{x}\\right)^2}\\\\\n",
    "\\end{eqnarray} \n",
    "$$\n",
    "\n",
    "Ok, that's a lot of math, but in the end we get an explicit formula for the optimal $A$. To make things look cleaner, we can break the above into a few functions. We define the covariance and variance as: \n",
    "\n",
    "$$\n",
    "\\begin{eqnarray} \n",
    "\\rm{VAR(x)}   & = & \\frac{1}{N}\\sum_{i=1}^{N} \\left(x_{i}-\\bar{x}\\right)^2 \\\\\n",
    "\\rm{COV(x,y)} & = & \\frac{1}{N}\\sum_{i=1}^{N} \\left(x_{i} - \\bar{x} \\right) \\left(y_{i}-\\bar{y}\\right) \\\\\n",
    "            A & = & \\frac{\\rm{COV(x,y)}}{\\rm{VAR(x)}}\n",
    "\\end{eqnarray}\n",
    "$$\n",
    "\n",
    "We'll talk about the covariance later. The variance is just the variance we defined on the first Lesson, but now in discrete form. Alright, now let's code this guy up!"
   ]
  },
  {
   "cell_type": "markdown",
   "id": "67bda2ea",
   "metadata": {
    "tags": [
     "learner",
     "md",
     "learner_chopped"
    ]
   },
   "source": [
    "<a name='exercises_4_2'></a>     \n",
    "\n",
    "| [Top](#section_4_0) | [Restart Section](#section_4_2) | [Next Section](#section_4_3) |\n"
   ]
  },
  {
   "cell_type": "markdown",
   "id": "284c368a",
   "metadata": {
    "tags": [
     "learner",
     "md",
     "learner_chopped"
    ]
   },
   "source": [
    "### <span style=\"border:3px; border-style:solid; padding: 0.15em; border-color: #90409C; color: #90409C;\">Ex-3.7.1 Complete the Derivation</span>\n",
    "\n",
    "In the derivation shown previously, how did we get the strange formulation in that second step? Part of the answer is that we could add a term $\\sum_{i} x_{i}\\bar{x} - \\bar{x}^2$ to the denominator because $\\sum_{i} x_{i}\\bar{x} - \\bar{x}^2 = 0$. This helped simplify the derivation. Below, we show a partial proof that $\\sum_{i} x_{i}\\bar{x} - \\bar{x}^2 = 0$:\n",
    "\n",
    "<br>\n",
    "\n",
    "$$\n",
    "\\begin{eqnarray} \n",
    "\\sum_{i} (x_{i}\\bar{x}-\\bar{x}^{2}) & = & \\sum_{i} x_{i}\\bar{x} -\\sum_{i} \\bar{x}^{2} \\\\\n",
    "& = & [\\mathrm{insert\\,missing\\,step}]\\\\\n",
    "& = & 0 \\\\\n",
    "\\end{eqnarray}\n",
    "$$  \n",
    "\n",
    "<br>\n",
    "\n",
    "In order for this to be true, what must the value of $\\sum_{i} x_{i}\\bar{x}$ be? Express your answer in terms of `N` for $N$ and `xbar` for $\\bar{x}$.\n"
   ]
  },
  {
   "cell_type": "markdown",
   "id": "1a4aea82",
   "metadata": {
    "tags": [
     "solution",
     "md"
    ]
   },
   "source": [
    "<div style=\"border:1.5px; border-style:solid; padding: 0.5em; border-color: #90409C; color: #90409C;\">\n",
    "\n",
    "**SOLUTION:**\n",
    "\n",
    "$$\n",
    "\\begin{eqnarray} \n",
    "\\sum_{i} (x_{i}\\bar{x}-\\bar{x}^{2}) & = & \\sum_{i} x_{i}\\bar{x} -\\sum_{i} \\bar{x}^{2} \\\\\n",
    "& = & \\bar{x}\\sum_{i} x_{i} -N\\bar{x}^{2}\\\\\n",
    "& = & \\bar{x}N\\bar{x}-N\\bar{x}^{2} \\\\\n",
    "& = & 0 \\\\\n",
    "\\end{eqnarray}\n",
    "$$  \n",
    "  \n",
    "**EXPLANATION:**\n",
    "    \n",
    "See above.\n",
    "    \n",
    "</div>\n"
   ]
  },
  {
   "cell_type": "markdown",
   "id": "4fbfc1fe",
   "metadata": {
    "tags": [
     "learner",
     "md",
     "learner_chopped"
    ]
   },
   "source": [
    "<a name='section_3_8'></a>\n",
    "<hr style=\"height: 1px;\">\n",
    "\n",
    "## <h2 style=\"border:1px; border-style:solid; padding: 0.25em; color: #FFFFFF; background-color: #90409C\">L3.8 Linear Regression: Coding Example</h2>  \n",
    "\n",
    "| [Top](#section_3_0) | [Previous Section](#section_3_7) | [Exercises](#exercises_3_8) | [Next Section](#section_3_9) |\n"
   ]
  },
  {
   "cell_type": "markdown",
   "id": "9567320a",
   "metadata": {
    "tags": [
     "learner",
     "md",
     "lect_03"
    ]
   },
   "source": [
    "<h3>Overview</h3>\n",
    "\n",
    "\n",
    "Now, it's time to run the linear regression we mathematically derived in the section above! Below is an implementation of regression based on our calculation, and the units are explained following this implementation.\n"
   ]
  },
  {
   "cell_type": "code",
   "execution_count": null,
   "id": "2e3f8ab7",
   "metadata": {
    "tags": [
     "learner",
     "py",
     "lect_03",
     "learner_chopped"
    ]
   },
   "outputs": [],
   "source": [
    "#>>>RUN: L4.3-runcell01\n",
    "\n",
    "#Let's run the regression again\n",
    "def variance(isamples):\n",
    "    mean=isamples.mean()\n",
    "    n=len(isamples)\n",
    "    tot=0\n",
    "    for pVal in isamples:\n",
    "        tot+=(pVal-mean)**2\n",
    "    return tot/n\n",
    "\n",
    "def covariance(ixs,iys):\n",
    "    meanx=ixs.mean()\n",
    "    meany=iys.mean()\n",
    "    n=len(ixs)\n",
    "    tot=0\n",
    "    for i0 in range(len(ixs)):\n",
    "        tot+=(ixs[i0]-meanx)*(iys[i0]-meany)\n",
    "    return tot/n\n",
    "\n",
    "def linear(ix,ia,ib):\n",
    "    return ia*ix+ib\n",
    "\n",
    "def regress(redshift,distance):\n",
    "    #Let's regress\n",
    "    var=variance(redshift)\n",
    "    cov=covariance(redshift,distance)\n",
    "    A=cov/var\n",
    "    b=distance.mean()-A*redshift.mean()\n",
    "    #Done!\n",
    "    return A,b\n",
    "\n",
    "def plotAll(redshift,distance,distance_err,A,b):\n",
    "    #now let's plot it\n",
    "    xvals = np.linspace(0,0.1,100)\n",
    "    yvals = []\n",
    "    for pX in xvals:\n",
    "        yvals.append(linear(pX,A,b))\n",
    "\n",
    "    #Plot the line\n",
    "    plt.plot(xvals,yvals)\n",
    "    plt.errorbar(redshift,distance,yerr=distance_err,marker='.',linestyle = 'None', color = 'black')\n",
    "    plt.xlabel('redshift(z)', fontsize=15) #Label x\n",
    "    plt.ylabel('distances(parsec)', fontsize=15)#Label y\n",
    "    plt.show()\n",
    "    #Print it out\n",
    "    print(\"Hubbles Constant:\",1e6*3e5/A,\"intercept\",b)#Note 1e6 is from pc to Mpc and 3e5 is c in km/s\n",
    "\n",
    "A,b=regress(redshift,distance)\n",
    "plotAll(redshift,distance,distance_err,A,b)"
   ]
  },
  {
   "cell_type": "markdown",
   "id": "581be03f",
   "metadata": {
    "tags": [
     "learner",
     "md",
     "lect_03"
    ]
   },
   "source": [
    "From the data we're fitting, we can figure out the units of the slope $A$ :\n",
    "\n",
    "$$A = \\frac{\\rm distance(pc) }{\\rm  Redshift~(z)}$$\n",
    "\n",
    "where the redshift $z$ is the fractional (dimensionless) change in wavelength. Hubble's constant is defined as\n",
    "\n",
    "$$h_{0} = \\frac{\\rm Recession\\, speed~(km/s)}{\\rm distance(Mpc)}$$ \n",
    "\n",
    "For nonrelativistic speeds, the magnitude of redshift roughly corresponds to the recession speed by $z\\approx v/c$. So, we do the unit conversions to obtain\n",
    "\n",
    "$$h_{0} = \\frac{1}{A}\\frac{\\rm c~(km/s)}{10^{-6}}=\\frac{1}{A}\\frac{\\rm 3\\times10^{5}~(km/s)}{10^{-6}} $$"
   ]
  },
  {
   "cell_type": "markdown",
   "id": "82b15863",
   "metadata": {
    "tags": [
     "learner",
     "md",
     "learner_chopped"
    ]
   },
   "source": [
    "<a name='exercises_3_8'></a>     \n",
    "\n",
    "| [Top](#section_3_0) | [Restart Section](#section_3_8) | [Next Section](#section_3_9) |\n"
   ]
  },
  {
   "cell_type": "markdown",
   "id": "8c7baf60",
   "metadata": {
    "tags": [
     "learner",
     "md",
     "learner_chopped"
    ]
   },
   "source": [
    "### <span style=\"border:3px; border-style:solid; padding: 0.15em; border-color: #90409C; color: #90409C;\">Ex-4.3.1 Uncertainty in $h_{0}$</span>\n",
    "\n",
    "Now we wish to obtain the uncertainty on $h_{0}$, which we call $\\sigma_{h_0}$, where we will use the definition:\n",
    "\n",
    "$$h_{0} =\\frac{1}{A}\\frac{\\rm 3\\times10^{5}~(km/s)}{10^{-6}} $$\n",
    "\n",
    "\n",
    "Assume that we know the uncertainty on $A$, which we call $\\sigma_{A}$. What is the value of $\\sigma_{h_0}$? Express your answer in terms of `A` for $A$, `h_0` for $h_{0}$, and `sigma_A` for $\\sigma_{A}$.\n",
    "\n",
    "**Hint: To answer this question, you need to use propagation of uncertainty!**"
   ]
  },
  {
   "cell_type": "markdown",
   "id": "f08c65e1",
   "metadata": {
    "tags": [
     "solution",
     "md"
    ]
   },
   "source": [
    "<div style=\"border:1.5px; border-style:solid; padding: 0.5em; border-color: #90409C; color: #90409C;\">\n",
    "\n",
    "**SOLUTION:**\n",
    "\n",
    "\n",
    "$$\\sigma_{h_0} = \\frac{h_{0}}{A} \\sigma_{A}$$  \n",
    "    \n",
    " \n",
    "**EXPLANATION:**\n",
    "    \n",
    "We know the functional form of the dependence of $h_0$ on $A$; $h_0(A)=f(A)=C/A$, where $C$ is the numerical factor shown above. For a function of a random variable, we know the uncertainty scales approximately with the derivative in this fashion.\n",
    "    \n",
    "$$\n",
    "\\begin{eqnarray} \n",
    "f(A) & = & \\frac{C}{A},\\\\ \n",
    "\\frac{df}{dA} & = & -\\frac{C}{A^2},\\\\\n",
    "\\sigma_{f} & = & \\left | \\frac{df}{dA} \\right | \\sigma_{A} \\\\\n",
    "\\sigma_{h_0} & = \\frac{C}{A^2} \\sigma_{A} \\\\\n",
    "\\end{eqnarray}\n",
    "$$  \n",
    "    \n",
    "This is the functional dependence on $A$. In terms of $h_{0}$, we have:\n",
    "    \n",
    "$$\\sigma_{h_0} = \\frac{h_{0}}{A} \\sigma_{A}$$  \n",
    "    \n",
    "</div>\n"
   ]
  },
  {
   "cell_type": "markdown",
   "id": "e153d037",
   "metadata": {
    "tags": [
     "learner",
     "md",
     "learner_chopped"
    ]
   },
   "source": [
    ">#### Follow-up 4.3.1a (ungraded)\n",
    ">\n",
    ">What is the uncertainty $\\sigma_{h_0}$ written only in terms of the slope $A$ and its uncertainty? \n"
   ]
  },
  {
   "cell_type": "code",
   "execution_count": null,
   "id": "591969c3",
   "metadata": {},
   "outputs": [],
   "source": []
  }
 ],
 "metadata": {
  "celltoolbar": "Tags",
  "kernelspec": {
   "display_name": "Python 3 (ipykernel)",
   "language": "python",
   "name": "python3"
  },
  "language_info": {
   "codemirror_mode": {
    "name": "ipython",
    "version": 3
   },
   "file_extension": ".py",
   "mimetype": "text/x-python",
   "name": "python",
   "nbconvert_exporter": "python",
   "pygments_lexer": "ipython3",
   "version": "3.10.8"
  },
  "latex_envs": {
   "LaTeX_envs_menu_present": true,
   "autoclose": false,
   "autocomplete": true,
   "bibliofile": "biblio.bib",
   "cite_by": "apalike",
   "current_citInitial": 1,
   "eqLabelWithNumbers": true,
   "eqNumInitial": 1,
   "hotkeys": {
    "equation": "Ctrl-E",
    "itemize": "Ctrl-I"
   },
   "labels_anchors": false,
   "latex_user_defs": false,
   "report_style_numbering": false,
   "user_envs_cfg": false
  }
 },
 "nbformat": 4,
 "nbformat_minor": 5
}
